{
  "cells": [
    {
      "cell_type": "code",
      "execution_count": 1,
      "metadata": {
        "id": "ODtHIKcvkihm"
      },
      "outputs": [],
      "source": [
        "import pandas as pd\n",
        "import matplotlib.pyplot as plt\n",
        "\n"
      ]
    },
    {
      "cell_type": "code",
      "execution_count": 6,
      "metadata": {
        "colab": {
          "base_uri": "https://localhost:8080/"
        },
        "id": "EQIYq7Hwkvw9",
        "outputId": "e64913b8-69dd-452f-b4fe-3ddcc18b18fe"
      },
      "outputs": [
        {
          "name": "stdout",
          "output_type": "stream",
          "text": [
            "(499709, 2)\n"
          ]
        }
      ],
      "source": [
        "# # Read the dataset into a pandas DataFrame\n",
        "# df = pd.read_csv('../../../GPT2/quotes_dataset_final.csv')\n",
        "# print(df.shape)"
      ]
    },
    {
      "cell_type": "code",
      "execution_count": 8,
      "metadata": {
        "colab": {
          "base_uri": "https://localhost:8080/"
        },
        "id": "bI2VVBDSkvHY",
        "outputId": "879c3f7c-adc8-4406-c0de-7d974dd29bde"
      },
      "outputs": [
        {
          "name": "stdout",
          "output_type": "stream",
          "text": [
            "(140449, 2)\n"
          ]
        }
      ],
      "source": [
        "# # Define the tags to search for\n",
        "# tags_to_search = ['love', 'happiness', 'time', 'science', 'poetry', 'death', 'inspiration', 'romance', 'success', 'truth']\n",
        "# df = df.dropna(subset=['tags'])\n",
        "# # Filter rows that have any of the specified tags in the \"tags\" column\n",
        "# filtered_df = df[df['tags'].str.contains('|'.join(tags_to_search))]\n",
        "\n",
        "# # Print the filtered DataFrame\n",
        "# print(filtered_df.shape)\n"
      ]
    },
    {
      "cell_type": "code",
      "execution_count": 9,
      "metadata": {
        "colab": {
          "base_uri": "https://localhost:8080/"
        },
        "id": "sZlNq-PTlWZx",
        "outputId": "494609ed-8d4f-4a6e-f323-80525b42e9e8"
      },
      "outputs": [
        {
          "name": "stdout",
          "output_type": "stream",
          "text": [
            "             quote\n",
            "tag               \n",
            "death         8292\n",
            "happiness    10424\n",
            "inspiration   8163\n",
            "love         38805\n",
            "poetry        7180\n",
            "romance       9121\n",
            "science       5109\n",
            "success       8127\n",
            "time          6029\n",
            "truth        11827\n"
          ]
        }
      ],
      "source": [
        "# new_df = pd.DataFrame(columns=['quote', 'tag'])\n",
        "# for i, row in filtered_df.iterrows():\n",
        "#     tags = row['tags'].split(', ')\n",
        "#     matched_tags = [tag for tag in tags if tag in tags_to_search]\n",
        "#     for tag in matched_tags:\n",
        "#         new_df = pd.concat([new_df, pd.DataFrame({'quote': [row['quotes']], 'tag': [tag]})])\n",
        "\n",
        "# # Create a pivot table to count the number of quotes per tag\n",
        "# pivot_table = pd.pivot_table(new_df, values='quote', index='tag', aggfunc='count')\n",
        "# new_df.to_csv(\"test_data.csv\", index=False)\n",
        "# # Display the pivot table\n",
        "# print(pivot_table)"
      ]
    },
    {
      "cell_type": "code",
      "execution_count": 10,
      "metadata": {},
      "outputs": [],
      "source": [
        "all_test = pd.read_csv('test_data.csv')\n",
        "\n",
        "# Group the rows by the 'tag' column\n",
        "grouped_df = all_test.groupby('tag')\n",
        "\n",
        "# Create an empty DataFrame to store the selected rows\n",
        "selected_df = pd.DataFrame(columns=['quote', 'tag'])\n",
        "\n",
        "# Loop over each group and select the first 300 rows\n",
        "for tag, group in grouped_df:\n",
        "    selected_rows = group[:300]\n",
        "    selected_df = pd.concat([selected_df, selected_rows])\n",
        "\n",
        "# Save the selected rows to a CSV file\n",
        "selected_df.to_csv('selected_data.csv', index=False)"
      ]
    },
    {
      "cell_type": "code",
      "execution_count": 11,
      "metadata": {
        "colab": {
          "base_uri": "https://localhost:8080/",
          "height": 490
        },
        "id": "GjOkKrFumgBL",
        "outputId": "4fb97de9-2737-480c-9076-3fd719dfb55d"
      },
      "outputs": [
        {
          "data": {
            "image/png": "[encoded data removed]",
            "text/plain": [
              "<Figure size 640x480 with 1 Axes>"
            ]
          },
          "metadata": {},
          "output_type": "display_data"
        }
      ],
      "source": [
        "# Plot the distribution of the tag\n",
        "selected_test_data = pd.read_csv('selected_data.csv')\n",
        "tags_to_search = ['love', 'happiness', 'time', 'science', 'poetry', 'death', 'inspiration', 'romance', 'success', 'truth']\n",
        "plt.hist(selected_test_data['tag'], bins=len(tags_to_search), align='left')\n",
        "plt.xticks(rotation=90)\n",
        "plt.show()"
      ]
    }
  ],
  "metadata": {
    "colab": {
      "provenance": []
    },
    "kernelspec": {
      "display_name": "Python 3",
      "name": "python3"
    },
    "language_info": {
      "codemirror_mode": {
        "name": "ipython",
        "version": 3
      },
      "file_extension": ".py",
      "mimetype": "text/x-python",
      "name": "python",
      "nbconvert_exporter": "python",
      "pygments_lexer": "ipython3",
      "version": "3.7.16"
    }
  },
  "nbformat": 4,
  "nbformat_minor": 0
}
