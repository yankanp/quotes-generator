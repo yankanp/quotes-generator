{
  "cells": [
    {
      "cell_type": "code",
      "execution_count": 1,
      "metadata": {
        "colab": {
          "base_uri": "https://localhost:8080/"
        },
        "id": "vbGj4XEbBxae",
        "outputId": "fdfb850d-21d4-4650-8971-ec1c6ccf20e2"
      },
      "outputs": [
        {
          "name": "stdout",
          "output_type": "stream",
          "text": [
            "11.7\n",
            "True\n"
          ]
        }
      ],
      "source": [
        "import torch\n",
        "print(torch.version.cuda)\n",
        "print(torch.cuda.is_available())\n"
      ]
    },
    {
      "cell_type": "code",
      "execution_count": null,
      "metadata": {},
      "outputs": [],
      "source": [
        "# Create a MPS device\n",
        "# device = torch.device(\"mps\")\n",
        "# device"
      ]
    },
    {
      "cell_type": "code",
      "execution_count": 2,
      "metadata": {
        "id": "3Edz3U9wBxag"
      },
      "outputs": [],
      "source": [
        "use_cuda=torch.cuda.is_available()\n",
        "device=torch.device('cuda:0' if use_cuda else 'cpu')"
      ]
    },
    {
      "cell_type": "code",
      "execution_count": null,
      "metadata": {
        "id": "nyTvcMxGo5Uw"
      },
      "outputs": [],
      "source": [
        "! pip install SentencePiece\n"
      ]
    },
    {
      "cell_type": "code",
      "execution_count": null,
      "metadata": {},
      "outputs": [],
      "source": [
        "! pip install langid"
      ]
    },
    {
      "cell_type": "code",
      "execution_count": null,
      "metadata": {},
      "outputs": [],
      "source": [
        "! pip install unidecode"
      ]
    },
    {
      "cell_type": "code",
      "execution_count": null,
      "metadata": {
        "id": "powSGF3Yo7ew"
      },
      "outputs": [],
      "source": [
        "! pip install transformers\n"
      ]
    },
    {
      "cell_type": "code",
      "execution_count": null,
      "metadata": {
        "id": "8FMTXghMBxai"
      },
      "outputs": [],
      "source": [
        "! pip install pandas"
      ]
    },
    {
      "cell_type": "code",
      "execution_count": null,
      "metadata": {
        "id": "TD2jNfl0Bxaj"
      },
      "outputs": [],
      "source": [
        "! pip install -U matplotlib"
      ]
    },
    {
      "cell_type": "code",
      "execution_count": null,
      "metadata": {
        "id": "Ui1RY5C2Bxaj"
      },
      "outputs": [],
      "source": [
        "! pip install wandb"
      ]
    },
    {
      "cell_type": "code",
      "execution_count": 3,
      "metadata": {
        "id": "F2WJoaQTBxak"
      },
      "outputs": [
        {
          "name": "stderr",
          "output_type": "stream",
          "text": [
            "wandb: Appending key for api.wandb.ai to your netrc file: C:\\Users\\priya/.netrc\n"
          ]
        }
      ],
      "source": [
        "! wandb login 0cf8d63ac20cff538d748e7412a8d60561ff1268"
      ]
    },
    {
      "cell_type": "code",
      "execution_count": null,
      "metadata": {},
      "outputs": [],
      "source": [
        "! pip install -U scikit-learn"
      ]
    },
    {
      "cell_type": "code",
      "execution_count": 3,
      "metadata": {
        "id": "mfE3c4Ugoyza"
      },
      "outputs": [],
      "source": [
        "import torch\n",
        "import torch.nn as nn\n",
        "from torch.utils.data import Dataset, DataLoader,random_split,RandomSampler, SequentialSampler\n",
        "from transformers import GPT2Tokenizer, GPT2LMHeadModel, AdamW, get_linear_schedule_with_warmup,GPT2Config\n",
        "import pandas as pd\n",
        "from torch.nn.utils.rnn import pad_sequence\n",
        "import matplotlib.pyplot as plt\n",
        "from IPython import display\n",
        "plt.rcParams[\"figure.figsize\"] = 8, 6\n",
        "import wandb\n",
        "import re\n",
        "from collections import Counter\n",
        "\n",
        "import unidecode\n",
        "import langid\n",
        "import random\n",
        "from sklearn.model_selection import ParameterGrid\n",
        "import torch.optim as optim\n"
      ]
    },
    {
      "cell_type": "code",
      "execution_count": 4,
      "metadata": {
        "colab": {
          "base_uri": "https://localhost:8080/"
        },
        "id": "6W2npISTNpCR",
        "outputId": "0b822841-9b35-48e7-8f33-1420c1d77b1a"
      },
      "outputs": [
        {
          "name": "stdout",
          "output_type": "stream",
          "text": [
            "(500, 5)\n"
          ]
        }
      ],
      "source": [
        "full_dataset =pd.read_csv('../dataset/all_quotes.csv',low_memory=False)\n",
        "full_dataset=full_dataset.head(500) #For testing purpose only\n",
        "print(full_dataset.shape)\n"
      ]
    },
    {
      "cell_type": "code",
      "execution_count": 5,
      "metadata": {
        "colab": {
          "base_uri": "https://localhost:8080/",
          "height": 354
        },
        "id": "-XErZ9_KBxan",
        "outputId": "f5a56526-b5c5-439d-e9f7-0dd69a63d67c"
      },
      "outputs": [
        {
          "data": {
            "text/html": [
              "<div>\n",
              "<style scoped>\n",
              "    .dataframe tbody tr th:only-of-type {\n",
              "        vertical-align: middle;\n",
              "    }\n",
              "\n",
              "    .dataframe tbody tr th {\n",
              "        vertical-align: top;\n",
              "    }\n",
              "\n",
              "    .dataframe thead th {\n",
              "        text-align: right;\n",
              "    }\n",
              "</style>\n",
              "<table border=\"1\" class=\"dataframe\">\n",
              "  <thead>\n",
              "    <tr style=\"text-align: right;\">\n",
              "      <th></th>\n",
              "      <th>Unnamed: 0</th>\n",
              "      <th>quotes</th>\n",
              "      <th>author</th>\n",
              "      <th>tag</th>\n",
              "      <th>other_tags</th>\n",
              "    </tr>\n",
              "  </thead>\n",
              "  <tbody>\n",
              "    <tr>\n",
              "      <th>0</th>\n",
              "      <td>0</td>\n",
              "      <td>“Control of consciousness determines the quali...</td>\n",
              "      <td>― Mihaly Csikszentmihalyi, Flow: The Psycholog...</td>\n",
              "      <td>happiness</td>\n",
              "      <td>[' consciousness, happiness, quality-of-life']</td>\n",
              "    </tr>\n",
              "    <tr>\n",
              "      <th>1</th>\n",
              "      <td>1</td>\n",
              "      <td>“Copulation is no more foul to me than death is.”</td>\n",
              "      <td>― Walt Whitman, Leaves of Grass: The First (18...</td>\n",
              "      <td>death</td>\n",
              "      <td>[' death, sex']</td>\n",
              "    </tr>\n",
              "    <tr>\n",
              "      <th>2</th>\n",
              "      <td>2</td>\n",
              "      <td>“Hope is a dream of which we long to have. Don...</td>\n",
              "      <td>― Peace Gypsy, Souls Deep</td>\n",
              "      <td>happiness</td>\n",
              "      <td>[' dreamers, dreams, happiness, love, peace']</td>\n",
              "    </tr>\n",
              "    <tr>\n",
              "      <th>3</th>\n",
              "      <td>3</td>\n",
              "      <td>“True devotion and humility is when you carele...</td>\n",
              "      <td>― Michael Bassey Johnson</td>\n",
              "      <td>truth</td>\n",
              "      <td>[' acceptance, achilles-heel, admiration, affe...</td>\n",
              "    </tr>\n",
              "    <tr>\n",
              "      <th>4</th>\n",
              "      <td>4</td>\n",
              "      <td>“Truths are written, never said... Lines are d...</td>\n",
              "      <td>― Colleen Hoover, Maybe Someday</td>\n",
              "      <td>poetry</td>\n",
              "      <td>[' love, maybe-someday, poetry, ridge-lawson']</td>\n",
              "    </tr>\n",
              "  </tbody>\n",
              "</table>\n",
              "</div>"
            ],
            "text/plain": [
              "   Unnamed: 0                                             quotes  \\\n",
              "0           0  “Control of consciousness determines the quali...   \n",
              "1           1  “Copulation is no more foul to me than death is.”   \n",
              "2           2  “Hope is a dream of which we long to have. Don...   \n",
              "3           3  “True devotion and humility is when you carele...   \n",
              "4           4  “Truths are written, never said... Lines are d...   \n",
              "\n",
              "                                              author        tag  \\\n",
              "0  ― Mihaly Csikszentmihalyi, Flow: The Psycholog...  happiness   \n",
              "1  ― Walt Whitman, Leaves of Grass: The First (18...      death   \n",
              "2                          ― Peace Gypsy, Souls Deep  happiness   \n",
              "3                           ― Michael Bassey Johnson      truth   \n",
              "4                    ― Colleen Hoover, Maybe Someday     poetry   \n",
              "\n",
              "                                          other_tags  \n",
              "0     [' consciousness, happiness, quality-of-life']  \n",
              "1                                    [' death, sex']  \n",
              "2      [' dreamers, dreams, happiness, love, peace']  \n",
              "3  [' acceptance, achilles-heel, admiration, affe...  \n",
              "4     [' love, maybe-someday, poetry, ridge-lawson']  "
            ]
          },
          "execution_count": 5,
          "metadata": {},
          "output_type": "execute_result"
        }
      ],
      "source": [
        "full_dataset.head()"
      ]
    },
    {
      "cell_type": "code",
      "execution_count": 6,
      "metadata": {
        "id": "grzaX34tImOx"
      },
      "outputs": [
        {
          "name": "stdout",
          "output_type": "stream",
          "text": [
            "(483, 2)\n"
          ]
        }
      ],
      "source": [
        "new_dataset = full_dataset[['quotes', 'tag']]\n",
        "new_dataset = new_dataset[new_dataset['quotes'].apply(lambda x: unidecode.unidecode(x).isascii())]\n",
        "\n",
        "# Set the seed for reproducibility\n",
        "random.seed(123)\n",
        "\n",
        "# Define a function to detect the language of a string\n",
        "def detect_language(text):\n",
        "    return langid.classify(text)[0]\n",
        "\n",
        "# Add a new column to the DataFrame with the language of each quote\n",
        "new_dataset['language'] = new_dataset['quotes'].apply(detect_language)\n",
        "\n",
        "# Filter the DataFrame to keep only the rows where the language is English\n",
        "new_dataset = new_dataset[new_dataset['language'] == 'en']\n",
        "\n",
        "# Drop the language column from the DataFrame\n",
        "new_dataset = new_dataset.drop('language', axis=1)\n",
        "new_dataset = new_dataset.reset_index(drop=True)\n",
        "print(new_dataset.shape)"
      ]
    },
    {
      "cell_type": "code",
      "execution_count": 7,
      "metadata": {
        "colab": {
          "base_uri": "https://localhost:8080/",
          "height": 784
        },
        "id": "I0Ia15dHBxao",
        "outputId": "9b5428fb-a285-4af8-8403-821872455579"
      },
      "outputs": [
        {
          "name": "stdout",
          "output_type": "stream",
          "text": [
            "           tag  count\n",
            "0    happiness     61\n",
            "9         time     55\n",
            "8      success     53\n",
            "2        truth     52\n",
            "1        death     47\n",
            "4  inspiration     47\n",
            "3       poetry     45\n",
            "7      science     43\n",
            "6         love     41\n",
            "5      romance     39\n"
          ]
        },
        {
          "data": {
            "image/png": "[encoded data removed]",
            "text/plain": [
              "<Figure size 800x600 with 1 Axes>"
            ]
          },
          "metadata": {},
          "output_type": "display_data"
        }
      ],
      "source": [
        "# Lowercase the text\n",
        "# full_dataset['tags'] = full_dataset['tags'].apply(lambda x: x.lower())\n",
        "tag_string = ','.join(new_dataset['tag'])\n",
        "tag_list = [tag.strip() for tag in tag_string.split(',')] # all tags in this list\n",
        "tag_counts = Counter(tag_list)\n",
        "tag_df = pd.DataFrame({'tag': tag_counts.keys(), 'count': tag_counts.values()})\n",
        "tag_df = tag_df.sort_values(by='count', ascending=False)\n",
        "print(tag_df)\n",
        "plt.bar(tag_df['tag'][:50], tag_df['count'][:50])\n",
        "plt.xticks(rotation=90)\n",
        "plt.show()"
      ]
    },
    {
      "cell_type": "code",
      "execution_count": 8,
      "metadata": {},
      "outputs": [],
      "source": [
        "new_dataset['quotes'] = new_dataset['quotes'].str.replace('“', '')\n",
        "new_dataset['quotes'] = new_dataset['quotes'].str.replace('”', '')"
      ]
    },
    {
      "cell_type": "code",
      "execution_count": 9,
      "metadata": {
        "id": "od6NjoSUBxap"
      },
      "outputs": [],
      "source": [
        "#Data preprocessing\n",
        "# Remove new line\n",
        "new_dataset['quotes'] = new_dataset['quotes'].apply(lambda x: re.sub(r'\\n+', ' ', x))\n",
        "\n",
        "# Lowercase the text\n",
        "new_dataset['quotes'] = new_dataset['quotes'].apply(lambda x: x.lower())"
      ]
    },
    {
      "cell_type": "code",
      "execution_count": 10,
      "metadata": {
        "id": "EG-SnFcWTpW-"
      },
      "outputs": [
        {
          "name": "stdout",
          "output_type": "stream",
          "text": [
            "Sentences with 0-100 words: 458\n",
            "Sentences with 100-200 words: 22\n",
            "Sentences with 200-300 words: 3\n",
            "Sentences with 300-400 words: 0\n",
            "Sentences with 400-500 words: 0\n",
            "Sentences with 500-600 words: 0\n",
            "Sentences with 600+ words: 0\n"
          ]
        }
      ],
      "source": [
        "def plot_word_distribution(sentences):\n",
        "    # Initialize a dictionary to keep track of the count of sentences in each bin\n",
        "    bin_counts = {'0-100': 0, '100-200': 0, '200-300': 0, '300-400': 0, '400-500': 0, '500-600': 0, '600+': 0}\n",
        "    sentence_lengths = []\n",
        "    \n",
        "    for sentence in sentences:\n",
        "        # Get the length of the sentence in words\n",
        "        length = len(sentence.split())\n",
        "        sentence_lengths.append(length)\n",
        "        \n",
        "        # Update the count of sentences in the appropriate bin\n",
        "        if length <= 100:\n",
        "            bin_counts['0-100'] += 1\n",
        "        elif length <= 200:\n",
        "            bin_counts['100-200'] += 1\n",
        "        elif length <= 300:\n",
        "            bin_counts['200-300'] += 1\n",
        "        elif length <= 400:\n",
        "            bin_counts['300-400'] += 1\n",
        "        elif length <= 500:\n",
        "            bin_counts['400-500'] += 1\n",
        "        elif length <= 600:\n",
        "            bin_counts['500-600'] += 1\n",
        "        else:\n",
        "            bin_counts['600+'] += 1   \n",
        "    # Print the counts of sentences in each bin\n",
        "    print(f\"Sentences with 0-100 words: {bin_counts['0-100']}\")\n",
        "    print(f\"Sentences with 100-200 words: {bin_counts['100-200']}\")\n",
        "    print(f\"Sentences with 200-300 words: {bin_counts['200-300']}\")\n",
        "    print(f\"Sentences with 300-400 words: {bin_counts['300-400']}\")\n",
        "    print(f\"Sentences with 400-500 words: {bin_counts['400-500']}\")\n",
        "    print(f\"Sentences with 500-600 words: {bin_counts['500-600']}\")\n",
        "    print(f\"Sentences with 600+ words: {bin_counts['600+']}\")\n",
        "\n",
        "plot_word_distribution(new_dataset['quotes'])\n"
      ]
    },
    {
      "cell_type": "code",
      "execution_count": 11,
      "metadata": {},
      "outputs": [
        {
          "data": {
            "text/plain": [
              "(\"you think because he doesn't love you that you are worthless. you think that because he doesn't want you anymore that he is right -- that his judgement and opinion of you are correct. if he throws you out, then you are garbage. you think he belongs to you because you want to belong to him. don't. it's a bad word, 'belong.' especially when you put it with somebody you love. love shouldn't be like that. did you ever see the way the clouds love a mountain? they circle all around it; sometimes you can't even see the mountain for the clouds. but you know what? you go up top and what do you see? his head. the clouds never cover the head. his head pokes through, beacuse the clouds let him; they don't wrap him up. they let him keep his head up high, free, with nothing to hide him or bind him. you can't own a human being. you can't lose what you don't own. suppose you did own him. could you really love somebody who was absolutely nobody without you? you really want somebody like that? somebody who falls apart when you walk out the door? you don't, do you? and neither does he. you're turning over your whole life to him. your whole life, girl. and if it means so little to you that you can just give it away, hand it to him, then why should it mean any more to him? he can't value you more than you value yourself.\",\n",
              " 256)"
            ]
          },
          "execution_count": 11,
          "metadata": {},
          "output_type": "execute_result"
        }
      ],
      "source": [
        "def max_words_sentence(sentences):\n",
        "    sentence_lengths = [len(s.split()) for s in sentences]\n",
        "    max_length = max(sentence_lengths)\n",
        "    max_sentence = sentences[sentence_lengths.index(max_length)]\n",
        "    return max_sentence, max_length\n",
        "max_words_sentence(new_dataset['quotes'])"
      ]
    },
    {
      "cell_type": "code",
      "execution_count": 12,
      "metadata": {
        "id": "Ca6b1fFZMB2A"
      },
      "outputs": [],
      "source": [
        "max_length_value=768"
      ]
    },
    {
      "cell_type": "code",
      "execution_count": 13,
      "metadata": {
        "id": "H7tEwgnlC9_P"
      },
      "outputs": [],
      "source": [
        "class QuotesDataset(Dataset):\n",
        "    def __init__(self, quotes, tokenizer,max_length_value):\n",
        "        self.input_ids = []\n",
        "        self.attn_masks = []\n",
        "        self.tokenizer = tokenizer\n",
        "\n",
        "        for quote in quotes:\n",
        "          encodings_dict = tokenizer(\"<|startoftext|>\"+quote+\"<|endoftext|>\",\n",
        "                                    truncation=True,\n",
        "                                    max_length=max_length_value,\n",
        "                                    padding=\"max_length\") #We are using max length padding\n",
        "          \n",
        "          self.input_ids.append(torch.tensor(encodings_dict[\"input_ids\"]))\n",
        "          self.attn_masks.append(torch.tensor(encodings_dict[\"attention_mask\"]))\n",
        "\n",
        "    def __len__(self):\n",
        "        return len(self.input_ids)\n",
        "\n",
        "    def __getitem__(self, idx):\n",
        "        return self.input_ids[idx], self.attn_masks[idx]"
      ]
    },
    {
      "cell_type": "code",
      "execution_count": 14,
      "metadata": {
        "id": "3-HcjRmPLFCm"
      },
      "outputs": [],
      "source": [
        "#Hyper parameters\n",
        "\n",
        "all_hyper_parameters= {\n",
        "    \"batch_size\":[4],\n",
        "    \"lr\":[2e-5,1e-3],\n",
        "    \"optimizer\":['Adagrad','AdamW'],\n",
        "    \"warmup_steps\":[800],\n",
        "    \"num_epochs\": [20],\n",
        "    \"dropout\":[0],\n",
        "    }\n",
        "# all_hyper_parameters= {\n",
        "#     \"batch_size\":[4],\n",
        "#     \"lr\":[1e-1],\n",
        "#     \"optimizer\":['AdamW'],\n",
        "#     \"warmup_steps\":[100,500],\n",
        "#     \"num_epochs\": [ 2],\n",
        "#     \"dropout\":[0.25],\n",
        "#     }"
      ]
    },
    {
      "cell_type": "code",
      "execution_count": 15,
      "metadata": {},
      "outputs": [
        {
          "name": "stdout",
          "output_type": "stream",
          "text": [
            "0    happiness:control of consciousness determines ...\n",
            "1    death:copulation is no more foul to me than de...\n",
            "2    happiness:hope is a dream of which we long to ...\n",
            "3    truth:true devotion and humility is when you c...\n",
            "4    poetry:truths are written, never said... lines...\n",
            "Name: tag_quotes, dtype: object\n"
          ]
        }
      ],
      "source": [
        "#Add the tags with the quotes for training\n",
        "new_dataset['tag_quotes'] = new_dataset.apply(lambda x: x['tag'] + ':' + x['quotes'], axis=1)\n",
        "print(new_dataset['tag_quotes'].head())"
      ]
    },
    {
      "cell_type": "code",
      "execution_count": 16,
      "metadata": {},
      "outputs": [
        {
          "name": "stdout",
          "output_type": "stream",
          "text": [
            "386 97\n"
          ]
        }
      ],
      "source": [
        "quotes = new_dataset['tag_quotes']\n",
        "train_size = int(0.8*len(quotes))\n",
        "val_size = len(quotes) - train_size\n",
        "print(train_size,val_size)\n",
        "train_dataset, val_dataset = random_split(quotes, [train_size, val_size])\n"
      ]
    },
    {
      "cell_type": "code",
      "execution_count": 17,
      "metadata": {},
      "outputs": [
        {
          "data": {
            "image/png": "[encoded data removed]",
            "text/plain": [
              "<Figure size 800x600 with 1 Axes>"
            ]
          },
          "metadata": {},
          "output_type": "display_data"
        }
      ],
      "source": [
        "train_tags = [item.split(\":\")[0] for item in train_dataset]\n",
        "val_tags =[item.split(\":\")[0] for item in val_dataset]\n",
        "\n",
        "# Count the number of occurrences of each tag in each list\n",
        "train_tag_counts = Counter(train_tags)\n",
        "val_tag_counts = Counter(val_tags)\n",
        "\n",
        "# Plot the tag distributions\n",
        "fig, ax = plt.subplots()\n",
        "ax.bar(train_tag_counts.keys(), train_tag_counts.values(), label='Training set')\n",
        "ax.bar(val_tag_counts.keys(), val_tag_counts.values(), label='Validation set')\n",
        "ax.set_xlabel('Tags')\n",
        "ax.set_ylabel('Counts')\n",
        "ax.legend()\n",
        "plt.show()"
      ]
    },
    {
      "cell_type": "code",
      "execution_count": 18,
      "metadata": {},
      "outputs": [
        {
          "name": "stderr",
          "output_type": "stream",
          "text": [
            "Special tokens have been added in the vocabulary, make sure the associated word embeddings are fine-tuned or trained.\n",
            "Failed to detect the name of this notebook, you can set it manually with the WANDB_NOTEBOOK_NAME environment variable to enable code saving.\n"
          ]
        },
        {
          "name": "stdout",
          "output_type": "stream",
          "text": [
            "combination 1 ,num_epochs: 20 ,batch_size: 4 ,learning_rate: 2e-05 ,optimizer: Adagrad ,warm_up_step: 800, Dropout: 0\n"
          ]
        },
        {
          "name": "stderr",
          "output_type": "stream",
          "text": [
            "\u001b[34m\u001b[1mwandb\u001b[0m: Currently logged in as: \u001b[33mpkirupaharan\u001b[0m (\u001b[33mquotes\u001b[0m). Use \u001b[1m`wandb login --relogin`\u001b[0m to force relogin\n"
          ]
        },
        {
          "data": {
            "text/html": [
              "wandb version 0.15.2 is available!  To upgrade, please run:\n",
              " $ pip install wandb --upgrade"
            ],
            "text/plain": [
              "<IPython.core.display.HTML object>"
            ]
          },
          "metadata": {},
          "output_type": "display_data"
        },
        {
          "data": {
            "text/html": [
              "Tracking run with wandb version 0.14.2"
            ],
            "text/plain": [
              "<IPython.core.display.HTML object>"
            ]
          },
          "metadata": {},
          "output_type": "display_data"
        },
        {
          "data": {
            "text/html": [
              "Run data is saved locally in <code>c:\\CS\\CSC561\\Git_Src\\quotes-generator\\GPT-2\\wandb\\run-20230508_134450-h0mzqqqj</code>"
            ],
            "text/plain": [
              "<IPython.core.display.HTML object>"
            ]
          },
          "metadata": {},
          "output_type": "display_data"
        },
        {
          "data": {
            "text/html": [
              "Syncing run <strong><a href='https://wandb.ai/quotes/quotes-generator-project-3/runs/h0mzqqqj' target=\"_blank\">toasty-glitter-13</a></strong> to <a href='https://wandb.ai/quotes/quotes-generator-project-3' target=\"_blank\">Weights & Biases</a> (<a href='https://wandb.me/run' target=\"_blank\">docs</a>)<br/>"
            ],
            "text/plain": [
              "<IPython.core.display.HTML object>"
            ]
          },
          "metadata": {},
          "output_type": "display_data"
        },
        {
          "data": {
            "text/html": [
              " View project at <a href='https://wandb.ai/quotes/quotes-generator-project-3' target=\"_blank\">https://wandb.ai/quotes/quotes-generator-project-3</a>"
            ],
            "text/plain": [
              "<IPython.core.display.HTML object>"
            ]
          },
          "metadata": {},
          "output_type": "display_data"
        },
        {
          "data": {
            "text/html": [
              " View run at <a href='https://wandb.ai/quotes/quotes-generator-project-3/runs/h0mzqqqj' target=\"_blank\">https://wandb.ai/quotes/quotes-generator-project-3/runs/h0mzqqqj</a>"
            ],
            "text/plain": [
              "<IPython.core.display.HTML object>"
            ]
          },
          "metadata": {},
          "output_type": "display_data"
        },
        {
          "name": "stdout",
          "output_type": "stream",
          "text": [
            "Beginning epoch 1 of 20\n",
            "Average Training Loss: 6.238447243405371.\n",
            "Validation loss: 4.216724071502686.\n",
            "Beginning epoch 2 of 20\n",
            "Average Training Loss: 5.554880980363826.\n",
            "Validation loss: 3.874363660812378.\n",
            "Beginning epoch 3 of 20\n",
            "Average Training Loss: 5.1872227585192805.\n",
            "Validation loss: 3.6643341636657714.\n",
            "Beginning epoch 4 of 20\n",
            "Average Training Loss: 4.707629164469611.\n",
            "Validation loss: 3.3737621974945067.\n",
            "Beginning epoch 5 of 20\n",
            "Average Training Loss: 4.083641495901285.\n",
            "Validation loss: 2.968751406669617.\n",
            "Beginning epoch 6 of 20\n",
            "Average Training Loss: 3.2942524718255113.\n",
            "Validation loss: 2.389600577354431.\n",
            "Beginning epoch 7 of 20\n",
            "Average Training Loss: 2.1475781583294427.\n",
            "Validation loss: 1.7321226572990418.\n",
            "Beginning epoch 8 of 20\n",
            "Average Training Loss: 1.3480345422459632.\n",
            "Validation loss: 1.242103726863861.\n",
            "Beginning epoch 9 of 20\n",
            "Average Training Loss: 0.9651149111924712.\n",
            "Validation loss: 0.9428675127029419.\n",
            "Beginning epoch 10 of 20\n",
            "Average Training Loss: 0.8165437121366718.\n",
            "Validation loss: 0.7887571442127228.\n",
            "Beginning epoch 11 of 20\n",
            "Average Training Loss: 0.7295373767307124.\n",
            "Validation loss: 0.6779305136203766.\n",
            "Beginning epoch 12 of 20\n",
            "Average Training Loss: 0.6733606589823654.\n",
            "Validation loss: 0.6140580821037293.\n",
            "Beginning epoch 13 of 20\n",
            "Average Training Loss: 0.6320420276258409.\n",
            "Validation loss: 0.5659707915782929.\n",
            "Beginning epoch 14 of 20\n",
            "Average Training Loss: 0.5942760251232029.\n",
            "Validation loss: 0.5349371790885925.\n",
            "Beginning epoch 15 of 20\n",
            "Average Training Loss: 0.6005579902953708.\n",
            "Validation loss: 0.517448570728302.\n",
            "Beginning epoch 16 of 20\n",
            "Average Training Loss: 0.5732915462906828.\n",
            "Validation loss: 0.5007676613330841.\n",
            "Beginning epoch 17 of 20\n",
            "Average Training Loss: 0.5717181667839129.\n",
            "Validation loss: 0.4885007441043854.\n",
            "Beginning epoch 18 of 20\n",
            "Average Training Loss: 0.5603579980196413.\n",
            "Validation loss: 0.4815591275691986.\n",
            "Beginning epoch 19 of 20\n",
            "Average Training Loss: 0.555282515041607.\n",
            "Validation loss: 0.4775502288341522.\n",
            "Beginning epoch 20 of 20\n",
            "Average Training Loss: 0.5462049159807029.\n",
            "Validation loss: 0.47619894027709964.\n",
            "combination 2 ,num_epochs: 20 ,batch_size: 4 ,learning_rate: 2e-05 ,optimizer: AdamW ,warm_up_step: 800, Dropout: 0\n"
          ]
        },
        {
          "data": {
            "text/html": [
              "Finishing last run (ID:h0mzqqqj) before initializing another..."
            ],
            "text/plain": [
              "<IPython.core.display.HTML object>"
            ]
          },
          "metadata": {},
          "output_type": "display_data"
        },
        {
          "data": {
            "text/html": [
              "Waiting for W&B process to finish... <strong style=\"color:green\">(success).</strong>"
            ],
            "text/plain": [
              "<IPython.core.display.HTML object>"
            ]
          },
          "metadata": {},
          "output_type": "display_data"
        },
        {
          "data": {
            "application/vnd.jupyter.widget-view+json": {
              "model_id": "9f1b8d139fc44dd0872fe2d118dc2abb",
              "version_major": 2,
              "version_minor": 0
            },
            "text/plain": [
              "VBox(children=(Label(value='0.001 MB of 0.001 MB uploaded (0.000 MB deduped)\\r'), FloatProgress(value=1.0, max…"
            ]
          },
          "metadata": {},
          "output_type": "display_data"
        },
        {
          "data": {
            "text/html": [
              "<style>\n",
              "    table.wandb td:nth-child(1) { padding: 0 10px; text-align: left ; width: auto;} td:nth-child(2) {text-align: left ; width: 100%}\n",
              "    .wandb-row { display: flex; flex-direction: row; flex-wrap: wrap; justify-content: flex-start; width: 100% }\n",
              "    .wandb-col { display: flex; flex-direction: column; flex-basis: 100%; flex: 1; padding: 10px; }\n",
              "    </style>\n",
              "<div class=\"wandb-row\"><div class=\"wandb-col\"><h3>Run history:</h3><br/><table class=\"wandb\"><tr><td>Training Loss</td><td>▆▅▇▄▅▆▂█▇▄▄▄▂▃▂▂▁▃▁▁▁▁▁▁▁▁▁▁▁▁▁▁▁▁▁▁▁▂▁▁</td></tr><tr><td>Validation Loss</td><td>▇▅▅▄█▄▃▅▅▄▃▃▃▂▂▂▂▂▂▂▂▁▁▁▁▁▁▁▁▁▁▁▁▁▂▁▁▁▁▁</td></tr></table><br/></div><div class=\"wandb-col\"><h3>Run summary:</h3><br/><table class=\"wandb\"><tr><td>Training Loss</td><td>0.36578</td></tr><tr><td>Validation Loss</td><td>0.31025</td></tr></table><br/></div></div>"
            ],
            "text/plain": [
              "<IPython.core.display.HTML object>"
            ]
          },
          "metadata": {},
          "output_type": "display_data"
        },
        {
          "data": {
            "text/html": [
              " View run <strong style=\"color:#cdcd00\">toasty-glitter-13</strong> at: <a href='https://wandb.ai/quotes/quotes-generator-project-3/runs/h0mzqqqj' target=\"_blank\">https://wandb.ai/quotes/quotes-generator-project-3/runs/h0mzqqqj</a><br/>Synced 6 W&B file(s), 0 media file(s), 0 artifact file(s) and 0 other file(s)"
            ],
            "text/plain": [
              "<IPython.core.display.HTML object>"
            ]
          },
          "metadata": {},
          "output_type": "display_data"
        },
        {
          "data": {
            "text/html": [
              "Find logs at: <code>.\\wandb\\run-20230508_134450-h0mzqqqj\\logs</code>"
            ],
            "text/plain": [
              "<IPython.core.display.HTML object>"
            ]
          },
          "metadata": {},
          "output_type": "display_data"
        },
        {
          "data": {
            "text/html": [
              "Successfully finished last run (ID:h0mzqqqj). Initializing new run:<br/>"
            ],
            "text/plain": [
              "<IPython.core.display.HTML object>"
            ]
          },
          "metadata": {},
          "output_type": "display_data"
        },
        {
          "data": {
            "application/vnd.jupyter.widget-view+json": {
              "model_id": "419052fe9a0f4ba180c569abdd2a91ab",
              "version_major": 2,
              "version_minor": 0
            },
            "text/plain": [
              "VBox(children=(Label(value='Waiting for wandb.init()...\\r'), FloatProgress(value=0.016666666666666666, max=1.0…"
            ]
          },
          "metadata": {},
          "output_type": "display_data"
        },
        {
          "data": {
            "text/html": [
              "wandb version 0.15.2 is available!  To upgrade, please run:\n",
              " $ pip install wandb --upgrade"
            ],
            "text/plain": [
              "<IPython.core.display.HTML object>"
            ]
          },
          "metadata": {},
          "output_type": "display_data"
        },
        {
          "data": {
            "text/html": [
              "Tracking run with wandb version 0.14.2"
            ],
            "text/plain": [
              "<IPython.core.display.HTML object>"
            ]
          },
          "metadata": {},
          "output_type": "display_data"
        },
        {
          "data": {
            "text/html": [
              "Run data is saved locally in <code>c:\\CS\\CSC561\\Git_Src\\quotes-generator\\GPT-2\\wandb\\run-20230508_141918-clxv8v0n</code>"
            ],
            "text/plain": [
              "<IPython.core.display.HTML object>"
            ]
          },
          "metadata": {},
          "output_type": "display_data"
        },
        {
          "data": {
            "text/html": [
              "Syncing run <strong><a href='https://wandb.ai/quotes/quotes-generator-project-3/runs/clxv8v0n' target=\"_blank\">dark-armadillo-14</a></strong> to <a href='https://wandb.ai/quotes/quotes-generator-project-3' target=\"_blank\">Weights & Biases</a> (<a href='https://wandb.me/run' target=\"_blank\">docs</a>)<br/>"
            ],
            "text/plain": [
              "<IPython.core.display.HTML object>"
            ]
          },
          "metadata": {},
          "output_type": "display_data"
        },
        {
          "data": {
            "text/html": [
              " View project at <a href='https://wandb.ai/quotes/quotes-generator-project-3' target=\"_blank\">https://wandb.ai/quotes/quotes-generator-project-3</a>"
            ],
            "text/plain": [
              "<IPython.core.display.HTML object>"
            ]
          },
          "metadata": {},
          "output_type": "display_data"
        },
        {
          "data": {
            "text/html": [
              " View run at <a href='https://wandb.ai/quotes/quotes-generator-project-3/runs/clxv8v0n' target=\"_blank\">https://wandb.ai/quotes/quotes-generator-project-3/runs/clxv8v0n</a>"
            ],
            "text/plain": [
              "<IPython.core.display.HTML object>"
            ]
          },
          "metadata": {},
          "output_type": "display_data"
        },
        {
          "name": "stderr",
          "output_type": "stream",
          "text": [
            "c:\\Users\\priya\\anaconda3\\envs\\my_env_2\\lib\\site-packages\\transformers\\optimization.py:395: FutureWarning: This implementation of AdamW is deprecated and will be removed in a future version. Use the PyTorch implementation torch.optim.AdamW instead, or set `no_deprecation_warning=True` to disable this warning\n",
            "  FutureWarning,\n"
          ]
        },
        {
          "name": "stdout",
          "output_type": "stream",
          "text": [
            "Beginning epoch 1 of 20\n",
            "Average Training Loss: 10.120947410150901.\n",
            "Validation loss: 5.724827537536621.\n",
            "Beginning epoch 2 of 20\n",
            "Average Training Loss: 3.2496194630554043.\n",
            "Validation loss: 1.2543818402290343.\n",
            "Beginning epoch 3 of 20\n",
            "Average Training Loss: 0.8057240140192288.\n",
            "Validation loss: 0.44362505197525026.\n",
            "Beginning epoch 4 of 20\n",
            "Average Training Loss: 0.47156131390443784.\n",
            "Validation loss: 0.32303239464759825.\n",
            "Beginning epoch 5 of 20\n",
            "Average Training Loss: 0.3735508087676825.\n",
            "Validation loss: 0.2730629110336304.\n",
            "Beginning epoch 6 of 20\n",
            "Average Training Loss: 0.32358479499816895.\n",
            "Validation loss: 0.23669508695602418.\n",
            "Beginning epoch 7 of 20\n",
            "Average Training Loss: 0.2944129529533927.\n",
            "Validation loss: 0.22035897076129912.\n",
            "Beginning epoch 8 of 20\n",
            "Average Training Loss: 0.27157591168106215.\n",
            "Validation loss: 0.21199925899505614.\n",
            "Beginning epoch 9 of 20\n",
            "Average Training Loss: 0.25162314969239774.\n",
            "Validation loss: 0.20555180370807646.\n",
            "Beginning epoch 10 of 20\n",
            "Average Training Loss: 0.24204739436660846.\n",
            "Validation loss: 0.2007596507668495.\n",
            "Beginning epoch 11 of 20\n",
            "Average Training Loss: 0.23217016458511353.\n",
            "Validation loss: 0.19636085361242295.\n",
            "Beginning epoch 12 of 20\n",
            "Average Training Loss: 0.22614387338308944.\n",
            "Validation loss: 0.18609219253063203.\n",
            "Beginning epoch 13 of 20\n",
            "Average Training Loss: 0.21997278782817506.\n",
            "Validation loss: 0.18274337112903594.\n",
            "Beginning epoch 14 of 20\n",
            "Average Training Loss: 0.2164607729340337.\n",
            "Validation loss: 0.18056974619626998.\n",
            "Beginning epoch 15 of 20\n",
            "Average Training Loss: 0.2179902752035672.\n",
            "Validation loss: 0.18157041758298875.\n",
            "Beginning epoch 16 of 20\n",
            "Average Training Loss: 0.2146827356563401.\n",
            "Validation loss: 0.17842977464199067.\n",
            "Beginning epoch 17 of 20\n",
            "Average Training Loss: 0.21081656970314144.\n",
            "Validation loss: 0.1803641650080681.\n",
            "Beginning epoch 18 of 20\n",
            "Average Training Loss: 0.20873135796834513.\n",
            "Validation loss: 0.1799912530183792.\n",
            "Beginning epoch 19 of 20\n",
            "Average Training Loss: 0.20842243481389025.\n",
            "Validation loss: 0.17976897329092026.\n",
            "Beginning epoch 20 of 20\n",
            "Average Training Loss: 0.2076187269742956.\n",
            "Validation loss: 0.17886260598897935.\n",
            "combination 3 ,num_epochs: 20 ,batch_size: 4 ,learning_rate: 0.001 ,optimizer: Adagrad ,warm_up_step: 800, Dropout: 0\n"
          ]
        },
        {
          "data": {
            "text/html": [
              "Finishing last run (ID:clxv8v0n) before initializing another..."
            ],
            "text/plain": [
              "<IPython.core.display.HTML object>"
            ]
          },
          "metadata": {},
          "output_type": "display_data"
        },
        {
          "data": {
            "text/html": [
              "Waiting for W&B process to finish... <strong style=\"color:green\">(success).</strong>"
            ],
            "text/plain": [
              "<IPython.core.display.HTML object>"
            ]
          },
          "metadata": {},
          "output_type": "display_data"
        },
        {
          "data": {
            "text/html": [
              "<style>\n",
              "    table.wandb td:nth-child(1) { padding: 0 10px; text-align: left ; width: auto;} td:nth-child(2) {text-align: left ; width: 100%}\n",
              "    .wandb-row { display: flex; flex-direction: row; flex-wrap: wrap; justify-content: flex-start; width: 100% }\n",
              "    .wandb-col { display: flex; flex-direction: column; flex-basis: 100%; flex: 1; padding: 10px; }\n",
              "    </style>\n",
              "<div class=\"wandb-row\"><div class=\"wandb-col\"><h3>Run history:</h3><br/><table class=\"wandb\"><tr><td>Training Loss</td><td>█▆▅▂▂▂▁▁▁▁▁▁▁▁▁▁▁▁▁▁▁▁▁▁▁▁▁▁▁▁▁▁▁▁▁▁▁▁▁▁</td></tr><tr><td>Validation Loss</td><td>█▆▂▂▂▁▁▁▁▁▁▁▁▁▁▁▁▁▁▁▁▁▁▁▁▁▁▁▁▁▁▁▁▁▂▁▁▁▁▁</td></tr></table><br/></div><div class=\"wandb-col\"><h3>Run summary:</h3><br/><table class=\"wandb\"><tr><td>Training Loss</td><td>0.24179</td></tr><tr><td>Validation Loss</td><td>0.11955</td></tr></table><br/></div></div>"
            ],
            "text/plain": [
              "<IPython.core.display.HTML object>"
            ]
          },
          "metadata": {},
          "output_type": "display_data"
        },
        {
          "data": {
            "text/html": [
              " View run <strong style=\"color:#cdcd00\">dark-armadillo-14</strong> at: <a href='https://wandb.ai/quotes/quotes-generator-project-3/runs/clxv8v0n' target=\"_blank\">https://wandb.ai/quotes/quotes-generator-project-3/runs/clxv8v0n</a><br/>Synced 6 W&B file(s), 0 media file(s), 0 artifact file(s) and 0 other file(s)"
            ],
            "text/plain": [
              "<IPython.core.display.HTML object>"
            ]
          },
          "metadata": {},
          "output_type": "display_data"
        },
        {
          "data": {
            "text/html": [
              "Find logs at: <code>.\\wandb\\run-20230508_141918-clxv8v0n\\logs</code>"
            ],
            "text/plain": [
              "<IPython.core.display.HTML object>"
            ]
          },
          "metadata": {},
          "output_type": "display_data"
        },
        {
          "data": {
            "text/html": [
              "Successfully finished last run (ID:clxv8v0n). Initializing new run:<br/>"
            ],
            "text/plain": [
              "<IPython.core.display.HTML object>"
            ]
          },
          "metadata": {},
          "output_type": "display_data"
        },
        {
          "data": {
            "application/vnd.jupyter.widget-view+json": {
              "model_id": "317c520db556444e8cf937f13aaa249b",
              "version_major": 2,
              "version_minor": 0
            },
            "text/plain": [
              "VBox(children=(Label(value='Waiting for wandb.init()...\\r'), FloatProgress(value=0.016933333330477276, max=1.0…"
            ]
          },
          "metadata": {},
          "output_type": "display_data"
        },
        {
          "data": {
            "text/html": [
              "wandb version 0.15.2 is available!  To upgrade, please run:\n",
              " $ pip install wandb --upgrade"
            ],
            "text/plain": [
              "<IPython.core.display.HTML object>"
            ]
          },
          "metadata": {},
          "output_type": "display_data"
        },
        {
          "data": {
            "text/html": [
              "Tracking run with wandb version 0.14.2"
            ],
            "text/plain": [
              "<IPython.core.display.HTML object>"
            ]
          },
          "metadata": {},
          "output_type": "display_data"
        },
        {
          "data": {
            "text/html": [
              "Run data is saved locally in <code>c:\\CS\\CSC561\\Git_Src\\quotes-generator\\GPT-2\\wandb\\run-20230508_143831-zzufk76f</code>"
            ],
            "text/plain": [
              "<IPython.core.display.HTML object>"
            ]
          },
          "metadata": {},
          "output_type": "display_data"
        },
        {
          "data": {
            "text/html": [
              "Syncing run <strong><a href='https://wandb.ai/quotes/quotes-generator-project-3/runs/zzufk76f' target=\"_blank\">woven-pine-15</a></strong> to <a href='https://wandb.ai/quotes/quotes-generator-project-3' target=\"_blank\">Weights & Biases</a> (<a href='https://wandb.me/run' target=\"_blank\">docs</a>)<br/>"
            ],
            "text/plain": [
              "<IPython.core.display.HTML object>"
            ]
          },
          "metadata": {},
          "output_type": "display_data"
        },
        {
          "data": {
            "text/html": [
              " View project at <a href='https://wandb.ai/quotes/quotes-generator-project-3' target=\"_blank\">https://wandb.ai/quotes/quotes-generator-project-3</a>"
            ],
            "text/plain": [
              "<IPython.core.display.HTML object>"
            ]
          },
          "metadata": {},
          "output_type": "display_data"
        },
        {
          "data": {
            "text/html": [
              " View run at <a href='https://wandb.ai/quotes/quotes-generator-project-3/runs/zzufk76f' target=\"_blank\">https://wandb.ai/quotes/quotes-generator-project-3/runs/zzufk76f</a>"
            ],
            "text/plain": [
              "<IPython.core.display.HTML object>"
            ]
          },
          "metadata": {},
          "output_type": "display_data"
        },
        {
          "name": "stdout",
          "output_type": "stream",
          "text": [
            "Beginning epoch 1 of 20\n",
            "Average Training Loss: 3.411069894267112.\n",
            "Validation loss: 0.5275192093849183.\n",
            "Beginning epoch 2 of 20\n",
            "Average Training Loss: 0.4139889739837843.\n",
            "Validation loss: 0.2816953831911087.\n",
            "Beginning epoch 3 of 20\n",
            "Average Training Loss: 0.3150248175736555.\n",
            "Validation loss: 0.23584340989589692.\n",
            "Beginning epoch 4 of 20\n",
            "Average Training Loss: 0.26834099447911547.\n",
            "Validation loss: 0.20303679555654525.\n",
            "Beginning epoch 5 of 20\n",
            "Average Training Loss: 0.2416269978143505.\n",
            "Validation loss: 0.19611847132444382.\n",
            "Beginning epoch 6 of 20\n",
            "Average Training Loss: 0.2276419573991569.\n",
            "Validation loss: 0.188058585524559.\n",
            "Beginning epoch 7 of 20\n",
            "Average Training Loss: 0.21573954474987442.\n",
            "Validation loss: 0.1804090991616249.\n",
            "Beginning epoch 8 of 20\n",
            "Average Training Loss: 0.20839538309991973.\n",
            "Validation loss: 0.17814273476600648.\n",
            "Beginning epoch 9 of 20\n",
            "Average Training Loss: 0.20206020169497765.\n",
            "Validation loss: 0.1631768462061882.\n",
            "Beginning epoch 10 of 20\n",
            "Average Training Loss: 0.19839990684359343.\n",
            "Validation loss: 0.16533972412347794.\n",
            "Beginning epoch 11 of 20\n",
            "Average Training Loss: 0.25310129004040943.\n",
            "Validation loss: 0.17224590092897415.\n",
            "Beginning epoch 12 of 20\n",
            "Average Training Loss: 0.20039081185595276.\n",
            "Validation loss: 0.1677035102248192.\n",
            "Beginning epoch 13 of 20\n",
            "Average Training Loss: 0.1961864242234181.\n",
            "Validation loss: 0.16595078140497208.\n",
            "Beginning epoch 14 of 20\n",
            "Average Training Loss: 0.19223464410944083.\n",
            "Validation loss: 0.161451855301857.\n",
            "Beginning epoch 15 of 20\n",
            "Average Training Loss: 0.19072724283509648.\n",
            "Validation loss: 0.16178872138261796.\n",
            "Beginning epoch 16 of 20\n",
            "Average Training Loss: 0.18849479576054307.\n",
            "Validation loss: 0.16284369379282.\n",
            "Beginning epoch 17 of 20\n",
            "Average Training Loss: 0.18667436748282196.\n",
            "Validation loss: 0.1632894840836525.\n",
            "Beginning epoch 18 of 20\n",
            "Average Training Loss: 0.18572193146059193.\n",
            "Validation loss: 0.16364081293344498.\n",
            "Beginning epoch 19 of 20\n",
            "Average Training Loss: 0.18581729781689102.\n",
            "Validation loss: 0.163888201713562.\n",
            "Beginning epoch 20 of 20\n",
            "Average Training Loss: 0.1863613678238441.\n",
            "Validation loss: 0.16393800646066667.\n",
            "combination 4 ,num_epochs: 20 ,batch_size: 4 ,learning_rate: 0.001 ,optimizer: AdamW ,warm_up_step: 800, Dropout: 0\n"
          ]
        },
        {
          "data": {
            "text/html": [
              "Finishing last run (ID:zzufk76f) before initializing another..."
            ],
            "text/plain": [
              "<IPython.core.display.HTML object>"
            ]
          },
          "metadata": {},
          "output_type": "display_data"
        },
        {
          "data": {
            "text/html": [
              "Waiting for W&B process to finish... <strong style=\"color:green\">(success).</strong>"
            ],
            "text/plain": [
              "<IPython.core.display.HTML object>"
            ]
          },
          "metadata": {},
          "output_type": "display_data"
        },
        {
          "data": {
            "application/vnd.jupyter.widget-view+json": {
              "model_id": "c1e54f85f627406bb50e0e49894a2138",
              "version_major": 2,
              "version_minor": 0
            },
            "text/plain": [
              "VBox(children=(Label(value='0.001 MB of 0.001 MB uploaded (0.000 MB deduped)\\r'), FloatProgress(value=1.0, max…"
            ]
          },
          "metadata": {},
          "output_type": "display_data"
        },
        {
          "data": {
            "text/html": [
              "<style>\n",
              "    table.wandb td:nth-child(1) { padding: 0 10px; text-align: left ; width: auto;} td:nth-child(2) {text-align: left ; width: 100%}\n",
              "    .wandb-row { display: flex; flex-direction: row; flex-wrap: wrap; justify-content: flex-start; width: 100% }\n",
              "    .wandb-col { display: flex; flex-direction: column; flex-basis: 100%; flex: 1; padding: 10px; }\n",
              "    </style>\n",
              "<div class=\"wandb-row\"><div class=\"wandb-col\"><h3>Run history:</h3><br/><table class=\"wandb\"><tr><td>Training Loss</td><td>█▁▁▁▁▁▁▁▁▁▁▁▁▁▁▁▁▁▁▁▁▁▁▁▁▁▁▁▁▁▁▁▁▁▁▁▁▁▁▁</td></tr><tr><td>Validation Loss</td><td>█▇▃▃▇▃▁▃▃▂▂▂▃▁▁▃▃▂▂▃▃▁▁▃▃▂▂▃▂▂▁▃▃▂▆▁▂▂▁▃</td></tr></table><br/></div><div class=\"wandb-col\"><h3>Run summary:</h3><br/><table class=\"wandb\"><tr><td>Training Loss</td><td>0.34935</td></tr><tr><td>Validation Loss</td><td>0.11446</td></tr></table><br/></div></div>"
            ],
            "text/plain": [
              "<IPython.core.display.HTML object>"
            ]
          },
          "metadata": {},
          "output_type": "display_data"
        },
        {
          "data": {
            "text/html": [
              " View run <strong style=\"color:#cdcd00\">woven-pine-15</strong> at: <a href='https://wandb.ai/quotes/quotes-generator-project-3/runs/zzufk76f' target=\"_blank\">https://wandb.ai/quotes/quotes-generator-project-3/runs/zzufk76f</a><br/>Synced 6 W&B file(s), 0 media file(s), 0 artifact file(s) and 0 other file(s)"
            ],
            "text/plain": [
              "<IPython.core.display.HTML object>"
            ]
          },
          "metadata": {},
          "output_type": "display_data"
        },
        {
          "data": {
            "text/html": [
              "Find logs at: <code>.\\wandb\\run-20230508_143831-zzufk76f\\logs</code>"
            ],
            "text/plain": [
              "<IPython.core.display.HTML object>"
            ]
          },
          "metadata": {},
          "output_type": "display_data"
        },
        {
          "data": {
            "text/html": [
              "Successfully finished last run (ID:zzufk76f). Initializing new run:<br/>"
            ],
            "text/plain": [
              "<IPython.core.display.HTML object>"
            ]
          },
          "metadata": {},
          "output_type": "display_data"
        },
        {
          "data": {
            "application/vnd.jupyter.widget-view+json": {
              "model_id": "3cb813d2d41b4feb875df2b208067933",
              "version_major": 2,
              "version_minor": 0
            },
            "text/plain": [
              "VBox(children=(Label(value='Waiting for wandb.init()...\\r'), FloatProgress(value=0.016933333330477276, max=1.0…"
            ]
          },
          "metadata": {},
          "output_type": "display_data"
        },
        {
          "data": {
            "text/html": [
              "wandb version 0.15.2 is available!  To upgrade, please run:\n",
              " $ pip install wandb --upgrade"
            ],
            "text/plain": [
              "<IPython.core.display.HTML object>"
            ]
          },
          "metadata": {},
          "output_type": "display_data"
        },
        {
          "data": {
            "text/html": [
              "Tracking run with wandb version 0.14.2"
            ],
            "text/plain": [
              "<IPython.core.display.HTML object>"
            ]
          },
          "metadata": {},
          "output_type": "display_data"
        },
        {
          "data": {
            "text/html": [
              "Run data is saved locally in <code>c:\\CS\\CSC561\\Git_Src\\quotes-generator\\GPT-2\\wandb\\run-20230508_145724-orfg7m7a</code>"
            ],
            "text/plain": [
              "<IPython.core.display.HTML object>"
            ]
          },
          "metadata": {},
          "output_type": "display_data"
        },
        {
          "data": {
            "text/html": [
              "Syncing run <strong><a href='https://wandb.ai/quotes/quotes-generator-project-3/runs/orfg7m7a' target=\"_blank\">ruby-snow-16</a></strong> to <a href='https://wandb.ai/quotes/quotes-generator-project-3' target=\"_blank\">Weights & Biases</a> (<a href='https://wandb.me/run' target=\"_blank\">docs</a>)<br/>"
            ],
            "text/plain": [
              "<IPython.core.display.HTML object>"
            ]
          },
          "metadata": {},
          "output_type": "display_data"
        },
        {
          "data": {
            "text/html": [
              " View project at <a href='https://wandb.ai/quotes/quotes-generator-project-3' target=\"_blank\">https://wandb.ai/quotes/quotes-generator-project-3</a>"
            ],
            "text/plain": [
              "<IPython.core.display.HTML object>"
            ]
          },
          "metadata": {},
          "output_type": "display_data"
        },
        {
          "data": {
            "text/html": [
              " View run at <a href='https://wandb.ai/quotes/quotes-generator-project-3/runs/orfg7m7a' target=\"_blank\">https://wandb.ai/quotes/quotes-generator-project-3/runs/orfg7m7a</a>"
            ],
            "text/plain": [
              "<IPython.core.display.HTML object>"
            ]
          },
          "metadata": {},
          "output_type": "display_data"
        },
        {
          "name": "stdout",
          "output_type": "stream",
          "text": [
            "Beginning epoch 1 of 20\n",
            "Average Training Loss: 2.105588245484018.\n",
            "Validation loss: 0.21906517326831818.\n",
            "Beginning epoch 2 of 20\n",
            "Average Training Loss: 0.23593137889486.\n",
            "Validation loss: 0.16672254234552383.\n",
            "Beginning epoch 3 of 20\n",
            "Average Training Loss: 0.19939284633422635.\n",
            "Validation loss: 0.1649505937099457.\n",
            "Beginning epoch 4 of 20\n",
            "Average Training Loss: 0.18572568805100992.\n",
            "Validation loss: 0.1641784816980362.\n",
            "Beginning epoch 5 of 20\n",
            "Average Training Loss: 0.16701490047973455.\n",
            "Validation loss: 0.16262305051088333.\n",
            "Beginning epoch 6 of 20\n",
            "Average Training Loss: 0.14036886490036532.\n",
            "Validation loss: 0.17689199447631837.\n",
            "Beginning epoch 7 of 20\n",
            "Average Training Loss: 0.12069805676943247.\n",
            "Validation loss: 0.18027828961610795.\n",
            "Beginning epoch 8 of 20\n",
            "Average Training Loss: 0.08990166722268787.\n",
            "Validation loss: 0.18836964309215545.\n",
            "Beginning epoch 9 of 20\n",
            "Average Training Loss: 0.06755820525445275.\n",
            "Validation loss: 0.21480903685092925.\n",
            "Beginning epoch 10 of 20\n",
            "Average Training Loss: 0.04969665104734529.\n",
            "Validation loss: 0.23725816428661348.\n",
            "Beginning epoch 11 of 20\n",
            "Average Training Loss: 0.03643816801690564.\n",
            "Validation loss: 0.24573964565992357.\n",
            "Beginning epoch 12 of 20\n",
            "Average Training Loss: 0.026588214292507812.\n",
            "Validation loss: 0.2609061399102211.\n",
            "Beginning epoch 13 of 20\n",
            "Average Training Loss: 0.022003844015530703.\n",
            "Validation loss: 0.27240573734045026.\n",
            "Beginning epoch 14 of 20\n",
            "Average Training Loss: 0.01738315660352867.\n",
            "Validation loss: 0.2746316999197006.\n",
            "Beginning epoch 15 of 20\n",
            "Average Training Loss: 0.01519571939848133.\n",
            "Validation loss: 0.2831864279508591.\n",
            "Beginning epoch 16 of 20\n",
            "Average Training Loss: 0.013430650432392494.\n",
            "Validation loss: 0.287063864171505.\n",
            "Beginning epoch 17 of 20\n",
            "Average Training Loss: 0.01240892337692767.\n",
            "Validation loss: 0.29114811807870866.\n",
            "Beginning epoch 18 of 20\n",
            "Average Training Loss: 0.01173063794861442.\n",
            "Validation loss: 0.2920849817991257.\n",
            "Beginning epoch 19 of 20\n",
            "Average Training Loss: 0.011188251249607383.\n",
            "Validation loss: 0.29348897755146025.\n",
            "Beginning epoch 20 of 20\n",
            "Average Training Loss: 0.010550515294151823.\n",
            "Validation loss: 0.29391849219799043.\n"
          ]
        },
        {
          "data": {
            "text/html": [
              "Waiting for W&B process to finish... <strong style=\"color:green\">(success).</strong>"
            ],
            "text/plain": [
              "<IPython.core.display.HTML object>"
            ]
          },
          "metadata": {},
          "output_type": "display_data"
        },
        {
          "data": {
            "application/vnd.jupyter.widget-view+json": {
              "model_id": "1a3f4dfe1f83402e8871c5b8f9be288f",
              "version_major": 2,
              "version_minor": 0
            },
            "text/plain": [
              "VBox(children=(Label(value='0.001 MB of 0.001 MB uploaded (0.000 MB deduped)\\r'), FloatProgress(value=1.0, max…"
            ]
          },
          "metadata": {},
          "output_type": "display_data"
        },
        {
          "data": {
            "text/html": [
              "<style>\n",
              "    table.wandb td:nth-child(1) { padding: 0 10px; text-align: left ; width: auto;} td:nth-child(2) {text-align: left ; width: 100%}\n",
              "    .wandb-row { display: flex; flex-direction: row; flex-wrap: wrap; justify-content: flex-start; width: 100% }\n",
              "    .wandb-col { display: flex; flex-direction: column; flex-basis: 100%; flex: 1; padding: 10px; }\n",
              "    </style>\n",
              "<div class=\"wandb-row\"><div class=\"wandb-col\"><h3>Run history:</h3><br/><table class=\"wandb\"><tr><td>Training Loss</td><td>█▁▁▁▁▁▁▂▁▁▁▁▁▁▁▁▁▁▁▁▁▁▁▁▁▁▁▁▁▁▁▁▁▁▁▁▁▁▁▁</td></tr><tr><td>Validation Loss</td><td>▅▃▃▂▄▁▁▃▄▂▃▂▄▁▁▄▆▃▄▅▆▂▂▆▆▄▅▆▄▄▂▇▆▄█▃▄▄▃▇</td></tr></table><br/></div><div class=\"wandb-col\"><h3>Run summary:</h3><br/><table class=\"wandb\"><tr><td>Training Loss</td><td>0.00942</td></tr><tr><td>Validation Loss</td><td>0.20755</td></tr></table><br/></div></div>"
            ],
            "text/plain": [
              "<IPython.core.display.HTML object>"
            ]
          },
          "metadata": {},
          "output_type": "display_data"
        },
        {
          "data": {
            "text/html": [
              " View run <strong style=\"color:#cdcd00\">ruby-snow-16</strong> at: <a href='https://wandb.ai/quotes/quotes-generator-project-3/runs/orfg7m7a' target=\"_blank\">https://wandb.ai/quotes/quotes-generator-project-3/runs/orfg7m7a</a><br/>Synced 6 W&B file(s), 0 media file(s), 0 artifact file(s) and 0 other file(s)"
            ],
            "text/plain": [
              "<IPython.core.display.HTML object>"
            ]
          },
          "metadata": {},
          "output_type": "display_data"
        },
        {
          "data": {
            "text/html": [
              "Find logs at: <code>.\\wandb\\run-20230508_145724-orfg7m7a\\logs</code>"
            ],
            "text/plain": [
              "<IPython.core.display.HTML object>"
            ]
          },
          "metadata": {},
          "output_type": "display_data"
        }
      ],
      "source": [
        "\n",
        "tokenizer = GPT2Tokenizer.from_pretrained('gpt2', \n",
        "                                          bos_token='<|startoftext|>', \n",
        "                                          eos_token='<|endoftext|>', \n",
        "                                          pad_token='<|pad|>')\n",
        "\n",
        "\n",
        "train_tokenized_dataset=QuotesDataset(train_dataset, tokenizer,max_length_value)\n",
        "val_tokenized_dataset=QuotesDataset(val_dataset, tokenizer,max_length_value)\n",
        "\n",
        "grid=ParameterGrid(all_hyper_parameters)\n",
        "loss_values=[]\n",
        "combination=0\n",
        "for hyper_param in grid: \n",
        "    combination=combination+1\n",
        "    print(f'combination {combination} ,num_epochs: {hyper_param[\"num_epochs\"]} ,batch_size: {hyper_param[\"batch_size\"]} ,learning_rate: {hyper_param[\"lr\"]} ,optimizer: {hyper_param[\"optimizer\"]} ,warm_up_step: {hyper_param[\"warmup_steps\"]}, Dropout: {hyper_param[\"dropout\"]}')\n",
        "    train_dataloader = DataLoader(train_tokenized_dataset,\n",
        "                                sampler=RandomSampler(train_tokenized_dataset),\n",
        "                                batch_size=hyper_param['batch_size'])\n",
        "\n",
        "    val_dataloader = DataLoader(val_tokenized_dataset,\n",
        "                                sampler=SequentialSampler(val_tokenized_dataset),\n",
        "                                batch_size=hyper_param['batch_size'])\n",
        "    wandb.init(\n",
        "        project=\"quotes-generator-project-3\",\n",
        "        config={\n",
        "        \"learning_rate\":hyper_param[\"lr\"], \n",
        "        \"batch_size\":hyper_param[\"batch_size\"],\n",
        "        \"warmup_steps\":hyper_param[\"warmup_steps\"],\n",
        "        \"optimizer\":hyper_param[\"optimizer\"],\n",
        "        \"num_epochs\":hyper_param[\"num_epochs\"],\n",
        "        \"dropout\":hyper_param[\"dropout\"],\n",
        "        }\n",
        "    )\n",
        "\n",
        "    # Load model configuration\n",
        "    config = GPT2Config.from_pretrained(\"gpt2\")\n",
        "    config.dropout=hyper_param['dropout']\n",
        "    # Create model instance and set embedding length\n",
        "    model = GPT2LMHeadModel.from_pretrained(\"gpt2\", config=config)\n",
        "    model.resize_token_embeddings(len(tokenizer))\n",
        "\n",
        "    # Running the model on GPU\n",
        "    model = model.to(device)\n",
        "    if hyper_param['optimizer']=='AdamW':\n",
        "        optimizer = AdamW(model.parameters(), lr=hyper_param['lr'], eps=1e-8)\n",
        "    else:\n",
        "        optimizer = optim.Adagrad(model.parameters(), lr=hyper_param['lr'])\n",
        "\n",
        "\n",
        "    # Toatl training steps is the number of data points times the number of epochs\n",
        "    total_training_steps = len(train_dataloader)*hyper_param['num_epochs']\n",
        "\n",
        "    # Setting a variable learning rate using scheduler\n",
        "    scheduler = get_linear_schedule_with_warmup(optimizer,\n",
        "                                                num_warmup_steps=hyper_param['warmup_steps'],\n",
        "                                                num_training_steps=total_training_steps)\n",
        "    training_stats = []\n",
        "    all_training_loss=[]\n",
        "    all_valid_loss=[]\n",
        "    for epoch_i in range(hyper_param['num_epochs']):\n",
        "        print(f\"Beginning epoch {epoch_i+1} of {hyper_param['num_epochs']}\")\n",
        "        total_train_loss = 0\n",
        "        model.train()\n",
        "\n",
        "        # Labels are shifted by 1 timestep\n",
        "        for step, batch in enumerate(train_dataloader):\n",
        "            b_input_ids = batch[0].to(device)\n",
        "            b_labels = batch[0].to(device)\n",
        "            b_masks = batch[1].to(device)\n",
        "\n",
        "            model.zero_grad()\n",
        "\n",
        "            outputs = model(b_input_ids,\n",
        "                            labels=b_labels,\n",
        "                            attention_mask=b_masks)\n",
        "            \n",
        "            loss = outputs[0]\n",
        "            wandb.log({\"Training Loss\": loss})\n",
        "\n",
        "            batch_loss = loss.item()\n",
        "            total_train_loss += batch_loss\n",
        "            loss.backward()\n",
        "            optimizer.step()\n",
        "            scheduler.step()\n",
        "\n",
        "        all_training_loss.append(total_train_loss)\n",
        "        avg_train_loss = total_train_loss / len(train_dataloader)\n",
        "        print(f'Average Training Loss: {avg_train_loss}.')\n",
        "        \n",
        "        model.eval()\n",
        "\n",
        "        total_eval_loss = 0\n",
        "        nb_eval_steps = 0\n",
        "\n",
        "        for batch in val_dataloader:\n",
        "            b_input_ids = batch[0].to(device)\n",
        "            b_labels = batch[0].to(device)\n",
        "            b_masks = batch[1].to(device)\n",
        "                \n",
        "            with torch.no_grad():        \n",
        "\n",
        "                outputs  = model(b_input_ids,  \n",
        "                                attention_mask = b_masks,\n",
        "                                labels=b_labels)\n",
        "                \n",
        "                loss = outputs[0]  \n",
        "                wandb.log({\"Validation Loss\": loss})\n",
        "\n",
        "            batch_loss = loss.item()\n",
        "            total_eval_loss += batch_loss   \n",
        "\n",
        "        all_valid_loss.append(total_eval_loss)\n",
        "        avg_val_loss = total_eval_loss / len(val_dataloader) \n",
        "        print(f'Validation loss: {avg_val_loss}.')\n",
        "    hyper_dict = {\n",
        "        \"hyperparameters\": f'num_epochs: {hyper_param[\"num_epochs\"]} batch_size: {hyper_param[\"batch_size\"]} learning_rate: {hyper_param[\"lr\"]} optimizer: {hyper_param[\"optimizer\"]} warm_up_step: {hyper_param[\"warmup_steps\"]} dropout: {hyper_param[\"dropout\"]}',\n",
        "        \"train_loss\": all_training_loss,\n",
        "        \"val_loss\": all_valid_loss}\n",
        "    loss_values.append(hyper_dict)\n",
        "wandb.finish()"
      ]
    },
    {
      "cell_type": "code",
      "execution_count": 23,
      "metadata": {},
      "outputs": [
        {
          "data": {
            "image/png": "[encoded data removed]",
            "text/plain": [
              "<Figure size 800x600 with 1 Axes>"
            ]
          },
          "metadata": {},
          "output_type": "display_data"
        },
        {
          "data": {
            "image/png": "[encoded data removed]",
            "text/plain": [
              "<Figure size 800x600 with 1 Axes>"
            ]
          },
          "metadata": {},
          "output_type": "display_data"
        },
        {
          "data": {
            "image/png": "[encoded data removed]",
            "text/plain": [
              "<Figure size 800x600 with 1 Axes>"
            ]
          },
          "metadata": {},
          "output_type": "display_data"
        },
        {
          "data": {
            "image/png": "[encoded data removed]",
            "text/plain": [
              "<Figure size 800x600 with 1 Axes>"
            ]
          },
          "metadata": {},
          "output_type": "display_data"
        }
      ],
      "source": [
        "# Loop through each combination in the loss_values list\n",
        "for i, combo in enumerate(loss_values):\n",
        "    # Create a new figure and axis\n",
        "    fig, ax = plt.subplots()\n",
        "\n",
        "    # Plot the training and validation loss values for the current combination\n",
        "    ax.plot(combo['train_loss'], label=f\"Train Loss\")\n",
        "    ax.plot(combo['val_loss'], label=f\"Val Loss\")\n",
        "\n",
        "    # Add axis labels and a legend\n",
        "    ax.set_xlabel(\"Epoch\")\n",
        "    ax.set_ylabel(\"Loss\")\n",
        "    ax.legend()\n",
        "\n",
        "    # Save the plot as a file\n",
        "    fig.savefig(f\"plot_{i}.png\")\n",
        "\n",
        "    # Show the plot\n",
        "    plt.show()\n"
      ]
    }
  ],
  "metadata": {
    "colab": {
      "gpuType": "T4",
      "provenance": []
    },
    "gpuClass": "standard",
    "kernelspec": {
      "display_name": "Python 3.9.13 ('base')",
      "language": "python",
      "name": "python3"
    },
    "language_info": {
      "codemirror_mode": {
        "name": "ipython",
        "version": 3
      },
      "file_extension": ".py",
      "mimetype": "text/x-python",
      "name": "python",
      "nbconvert_exporter": "python",
      "pygments_lexer": "ipython3",
      "version": "3.7.16"
    },
    "vscode": {
      "interpreter": {
        "hash": "302c0e539280ef2dfdb92b93b555721a22645911ab5c0c8cc8f046bb25d8f505"
      }
    }
  },
  "nbformat": 4,
  "nbformat_minor": 0
}
