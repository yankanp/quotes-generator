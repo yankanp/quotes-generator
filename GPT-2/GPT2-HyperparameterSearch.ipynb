{
  "cells": [
    {
      "cell_type": "code",
      "execution_count": 1,
      "metadata": {
        "colab": {
          "base_uri": "https://localhost:8080/"
        },
        "id": "vbGj4XEbBxae",
        "outputId": "fdfb850d-21d4-4650-8971-ec1c6ccf20e2"
      },
      "outputs": [
        {
          "name": "stdout",
          "output_type": "stream",
          "text": [
            "11.7\n",
            "True\n"
          ]
        }
      ],
      "source": [
        "import torch\n",
        "print(torch.version.cuda)\n",
        "print(torch.cuda.is_available())\n"
      ]
    },
    {
      "cell_type": "code",
      "execution_count": null,
      "metadata": {},
      "outputs": [],
      "source": [
        "# Create a MPS device\n",
        "# device = torch.device(\"mps\")\n",
        "# device"
      ]
    },
    {
      "cell_type": "code",
      "execution_count": 2,
      "metadata": {
        "id": "3Edz3U9wBxag"
      },
      "outputs": [],
      "source": [
        "use_cuda=torch.cuda.is_available()\n",
        "device=torch.device('cuda:0' if use_cuda else 'cpu')"
      ]
    },
    {
      "cell_type": "code",
      "execution_count": null,
      "metadata": {
        "id": "nyTvcMxGo5Uw"
      },
      "outputs": [],
      "source": [
        "! pip install SentencePiece\n"
      ]
    },
    {
      "cell_type": "code",
      "execution_count": null,
      "metadata": {},
      "outputs": [],
      "source": [
        "! pip install langid"
      ]
    },
    {
      "cell_type": "code",
      "execution_count": null,
      "metadata": {},
      "outputs": [],
      "source": [
        "! pip install unidecode"
      ]
    },
    {
      "cell_type": "code",
      "execution_count": null,
      "metadata": {
        "id": "powSGF3Yo7ew"
      },
      "outputs": [],
      "source": [
        "! pip install transformers\n"
      ]
    },
    {
      "cell_type": "code",
      "execution_count": null,
      "metadata": {
        "id": "8FMTXghMBxai"
      },
      "outputs": [],
      "source": [
        "! pip install pandas"
      ]
    },
    {
      "cell_type": "code",
      "execution_count": null,
      "metadata": {
        "id": "TD2jNfl0Bxaj"
      },
      "outputs": [],
      "source": [
        "! pip install -U matplotlib"
      ]
    },
    {
      "cell_type": "code",
      "execution_count": null,
      "metadata": {
        "id": "Ui1RY5C2Bxaj"
      },
      "outputs": [],
      "source": [
        "! pip install wandb"
      ]
    },
    {
      "cell_type": "code",
      "execution_count": 3,
      "metadata": {
        "id": "F2WJoaQTBxak"
      },
      "outputs": [
        {
          "name": "stderr",
          "output_type": "stream",
          "text": [
            "wandb: Appending key for api.wandb.ai to your netrc file: C:\\Users\\priya/.netrc\n"
          ]
        }
      ],
      "source": [
        "! wandb login 0cf8d63ac20cff538d748e7412a8d60561ff1268"
      ]
    },
    {
      "cell_type": "code",
      "execution_count": null,
      "metadata": {},
      "outputs": [],
      "source": [
        "! pip install -U scikit-learn"
      ]
    },
    {
      "cell_type": "code",
      "execution_count": null,
      "metadata": {
        "colab": {
          "base_uri": "https://localhost:8080/"
        },
        "id": "vLEIaKPbEyJr",
        "outputId": "ae09dc87-2b52-490e-9f53-d64035feb04d"
      },
      "outputs": [],
      "source": [
        "# from google.colab import drive\n",
        "# drive.mount('/content/drive')"
      ]
    },
    {
      "cell_type": "code",
      "execution_count": 3,
      "metadata": {
        "id": "mfE3c4Ugoyza"
      },
      "outputs": [],
      "source": [
        "import torch\n",
        "import torch.nn as nn\n",
        "from torch.utils.data import Dataset, DataLoader,random_split,RandomSampler, SequentialSampler\n",
        "from transformers import GPT2Tokenizer, GPT2LMHeadModel, AdamW, get_linear_schedule_with_warmup,GPT2Config\n",
        "import pandas as pd\n",
        "from torch.nn.utils.rnn import pad_sequence\n",
        "import matplotlib.pyplot as plt\n",
        "from IPython import display\n",
        "plt.rcParams[\"figure.figsize\"] = 8, 6\n",
        "# import wandb\n",
        "import re\n",
        "from collections import Counter\n",
        "\n",
        "import unidecode\n",
        "import langid\n",
        "import random\n",
        "from sklearn.model_selection import ParameterGrid\n",
        "import torch.optim as optim\n"
      ]
    },
    {
      "cell_type": "code",
      "execution_count": 4,
      "metadata": {
        "colab": {
          "base_uri": "https://localhost:8080/"
        },
        "id": "6W2npISTNpCR",
        "outputId": "0b822841-9b35-48e7-8f33-1420c1d77b1a"
      },
      "outputs": [
        {
          "name": "stdout",
          "output_type": "stream",
          "text": [
            "(100, 5)\n"
          ]
        }
      ],
      "source": [
        "full_dataset =pd.read_csv('../dataset/all_quotes.csv',low_memory=False)\n",
        "full_dataset=full_dataset.head(100) #For testing purpose only\n",
        "print(full_dataset.shape)\n"
      ]
    },
    {
      "cell_type": "code",
      "execution_count": 5,
      "metadata": {
        "colab": {
          "base_uri": "https://localhost:8080/",
          "height": 354
        },
        "id": "-XErZ9_KBxan",
        "outputId": "f5a56526-b5c5-439d-e9f7-0dd69a63d67c"
      },
      "outputs": [
        {
          "data": {
            "text/html": [
              "<div>\n",
              "<style scoped>\n",
              "    .dataframe tbody tr th:only-of-type {\n",
              "        vertical-align: middle;\n",
              "    }\n",
              "\n",
              "    .dataframe tbody tr th {\n",
              "        vertical-align: top;\n",
              "    }\n",
              "\n",
              "    .dataframe thead th {\n",
              "        text-align: right;\n",
              "    }\n",
              "</style>\n",
              "<table border=\"1\" class=\"dataframe\">\n",
              "  <thead>\n",
              "    <tr style=\"text-align: right;\">\n",
              "      <th></th>\n",
              "      <th>Unnamed: 0</th>\n",
              "      <th>quotes</th>\n",
              "      <th>author</th>\n",
              "      <th>tag</th>\n",
              "      <th>other_tags</th>\n",
              "    </tr>\n",
              "  </thead>\n",
              "  <tbody>\n",
              "    <tr>\n",
              "      <th>0</th>\n",
              "      <td>0</td>\n",
              "      <td>“Control of consciousness determines the quali...</td>\n",
              "      <td>― Mihaly Csikszentmihalyi, Flow: The Psycholog...</td>\n",
              "      <td>happiness</td>\n",
              "      <td>[' consciousness, happiness, quality-of-life']</td>\n",
              "    </tr>\n",
              "    <tr>\n",
              "      <th>1</th>\n",
              "      <td>1</td>\n",
              "      <td>“Copulation is no more foul to me than death is.”</td>\n",
              "      <td>― Walt Whitman, Leaves of Grass: The First (18...</td>\n",
              "      <td>death</td>\n",
              "      <td>[' death, sex']</td>\n",
              "    </tr>\n",
              "    <tr>\n",
              "      <th>2</th>\n",
              "      <td>2</td>\n",
              "      <td>“Hope is a dream of which we long to have. Don...</td>\n",
              "      <td>― Peace Gypsy, Souls Deep</td>\n",
              "      <td>happiness</td>\n",
              "      <td>[' dreamers, dreams, happiness, love, peace']</td>\n",
              "    </tr>\n",
              "    <tr>\n",
              "      <th>3</th>\n",
              "      <td>3</td>\n",
              "      <td>“True devotion and humility is when you carele...</td>\n",
              "      <td>― Michael Bassey Johnson</td>\n",
              "      <td>truth</td>\n",
              "      <td>[' acceptance, achilles-heel, admiration, affe...</td>\n",
              "    </tr>\n",
              "    <tr>\n",
              "      <th>4</th>\n",
              "      <td>4</td>\n",
              "      <td>“Truths are written, never said... Lines are d...</td>\n",
              "      <td>― Colleen Hoover, Maybe Someday</td>\n",
              "      <td>poetry</td>\n",
              "      <td>[' love, maybe-someday, poetry, ridge-lawson']</td>\n",
              "    </tr>\n",
              "  </tbody>\n",
              "</table>\n",
              "</div>"
            ],
            "text/plain": [
              "   Unnamed: 0                                             quotes  \\\n",
              "0           0  “Control of consciousness determines the quali...   \n",
              "1           1  “Copulation is no more foul to me than death is.”   \n",
              "2           2  “Hope is a dream of which we long to have. Don...   \n",
              "3           3  “True devotion and humility is when you carele...   \n",
              "4           4  “Truths are written, never said... Lines are d...   \n",
              "\n",
              "                                              author        tag  \\\n",
              "0  ― Mihaly Csikszentmihalyi, Flow: The Psycholog...  happiness   \n",
              "1  ― Walt Whitman, Leaves of Grass: The First (18...      death   \n",
              "2                          ― Peace Gypsy, Souls Deep  happiness   \n",
              "3                           ― Michael Bassey Johnson      truth   \n",
              "4                    ― Colleen Hoover, Maybe Someday     poetry   \n",
              "\n",
              "                                          other_tags  \n",
              "0     [' consciousness, happiness, quality-of-life']  \n",
              "1                                    [' death, sex']  \n",
              "2      [' dreamers, dreams, happiness, love, peace']  \n",
              "3  [' acceptance, achilles-heel, admiration, affe...  \n",
              "4     [' love, maybe-someday, poetry, ridge-lawson']  "
            ]
          },
          "execution_count": 5,
          "metadata": {},
          "output_type": "execute_result"
        }
      ],
      "source": [
        "full_dataset.head()"
      ]
    },
    {
      "cell_type": "code",
      "execution_count": 6,
      "metadata": {
        "id": "grzaX34tImOx"
      },
      "outputs": [
        {
          "name": "stdout",
          "output_type": "stream",
          "text": [
            "(95, 2)\n"
          ]
        }
      ],
      "source": [
        "new_dataset = full_dataset[['quotes', 'tag']]\n",
        "new_dataset = new_dataset[new_dataset['quotes'].apply(lambda x: unidecode.unidecode(x).isascii())]\n",
        "\n",
        "# Set the seed for reproducibility\n",
        "random.seed(123)\n",
        "\n",
        "# Define a function to detect the language of a string\n",
        "def detect_language(text):\n",
        "    return langid.classify(text)[0]\n",
        "\n",
        "# Add a new column to the DataFrame with the language of each quote\n",
        "new_dataset['language'] = new_dataset['quotes'].apply(detect_language)\n",
        "\n",
        "# Filter the DataFrame to keep only the rows where the language is English\n",
        "new_dataset = new_dataset[new_dataset['language'] == 'en']\n",
        "\n",
        "# Drop the language column from the DataFrame\n",
        "new_dataset = new_dataset.drop('language', axis=1)\n",
        "new_dataset = new_dataset.reset_index(drop=True)\n",
        "print(new_dataset.shape)"
      ]
    },
    {
      "cell_type": "code",
      "execution_count": 7,
      "metadata": {
        "colab": {
          "base_uri": "https://localhost:8080/",
          "height": 784
        },
        "id": "I0Ia15dHBxao",
        "outputId": "9b5428fb-a285-4af8-8403-821872455579"
      },
      "outputs": [
        {
          "name": "stdout",
          "output_type": "stream",
          "text": [
            "           tag  count\n",
            "3       poetry     15\n",
            "1        death     13\n",
            "0    happiness     12\n",
            "8      success     10\n",
            "2        truth      9\n",
            "5      romance      9\n",
            "6         love      9\n",
            "4  inspiration      6\n",
            "7      science      6\n",
            "9         time      6\n"
          ]
        },
        {
          "data": {
            "image/png": "[encoded data removed]",
            "text/plain": [
              "<Figure size 800x600 with 1 Axes>"
            ]
          },
          "metadata": {},
          "output_type": "display_data"
        }
      ],
      "source": [
        "# Lowercase the text\n",
        "# full_dataset['tags'] = full_dataset['tags'].apply(lambda x: x.lower())\n",
        "tag_string = ','.join(new_dataset['tag'])\n",
        "tag_list = [tag.strip() for tag in tag_string.split(',')] # all tags in this list\n",
        "tag_counts = Counter(tag_list)\n",
        "tag_df = pd.DataFrame({'tag': tag_counts.keys(), 'count': tag_counts.values()})\n",
        "tag_df = tag_df.sort_values(by='count', ascending=False)\n",
        "print(tag_df)\n",
        "plt.bar(tag_df['tag'][:50], tag_df['count'][:50])\n",
        "plt.xticks(rotation=90)\n",
        "plt.show()"
      ]
    },
    {
      "cell_type": "code",
      "execution_count": 8,
      "metadata": {},
      "outputs": [],
      "source": [
        "new_dataset['quotes'] = new_dataset['quotes'].str.replace('“', '')\n",
        "new_dataset['quotes'] = new_dataset['quotes'].str.replace('”', '')"
      ]
    },
    {
      "cell_type": "code",
      "execution_count": 9,
      "metadata": {
        "id": "od6NjoSUBxap"
      },
      "outputs": [],
      "source": [
        "#Data preprocessing\n",
        "# Remove new line\n",
        "new_dataset['quotes'] = new_dataset['quotes'].apply(lambda x: re.sub(r'\\n+', ' ', x))\n",
        "\n",
        "# Lowercase the text\n",
        "new_dataset['quotes'] = new_dataset['quotes'].apply(lambda x: x.lower())"
      ]
    },
    {
      "cell_type": "code",
      "execution_count": 10,
      "metadata": {
        "id": "EG-SnFcWTpW-"
      },
      "outputs": [
        {
          "name": "stdout",
          "output_type": "stream",
          "text": [
            "Sentences with 0-100 words: 94\n",
            "Sentences with 100-200 words: 1\n",
            "Sentences with 200-300 words: 0\n",
            "Sentences with 300-400 words: 0\n",
            "Sentences with 400-500 words: 0\n",
            "Sentences with 500-600 words: 0\n",
            "Sentences with 600+ words: 0\n"
          ]
        }
      ],
      "source": [
        "def plot_word_distribution(sentences):\n",
        "    # Initialize a dictionary to keep track of the count of sentences in each bin\n",
        "    bin_counts = {'0-100': 0, '100-200': 0, '200-300': 0, '300-400': 0, '400-500': 0, '500-600': 0, '600+': 0}\n",
        "    sentence_lengths = []\n",
        "    \n",
        "    for sentence in sentences:\n",
        "        # Get the length of the sentence in words\n",
        "        length = len(sentence.split())\n",
        "        sentence_lengths.append(length)\n",
        "        \n",
        "        # Update the count of sentences in the appropriate bin\n",
        "        if length <= 100:\n",
        "            bin_counts['0-100'] += 1\n",
        "        elif length <= 200:\n",
        "            bin_counts['100-200'] += 1\n",
        "        elif length <= 300:\n",
        "            bin_counts['200-300'] += 1\n",
        "        elif length <= 400:\n",
        "            bin_counts['300-400'] += 1\n",
        "        elif length <= 500:\n",
        "            bin_counts['400-500'] += 1\n",
        "        elif length <= 600:\n",
        "            bin_counts['500-600'] += 1\n",
        "        else:\n",
        "            bin_counts['600+'] += 1   \n",
        "    # Print the counts of sentences in each bin\n",
        "    print(f\"Sentences with 0-100 words: {bin_counts['0-100']}\")\n",
        "    print(f\"Sentences with 100-200 words: {bin_counts['100-200']}\")\n",
        "    print(f\"Sentences with 200-300 words: {bin_counts['200-300']}\")\n",
        "    print(f\"Sentences with 300-400 words: {bin_counts['300-400']}\")\n",
        "    print(f\"Sentences with 400-500 words: {bin_counts['400-500']}\")\n",
        "    print(f\"Sentences with 500-600 words: {bin_counts['500-600']}\")\n",
        "    print(f\"Sentences with 600+ words: {bin_counts['600+']}\")\n",
        "\n",
        "plot_word_distribution(new_dataset['quotes'])\n"
      ]
    },
    {
      "cell_type": "code",
      "execution_count": 11,
      "metadata": {},
      "outputs": [
        {
          "data": {
            "text/plain": [
              "('camels can go many weeks without drinking anything at all. the notion that they cache water in their humps is pure myth—their humps are made of fat, and water is stored in their body tissues. while other mammals draw water from bloodstreams when faced with dehydration, leading to death by volume shock, camels tap the water in their tissues, keeping their blood volume stable. though this reduces the camel’s bulk, they can lose up to a third of their body weight with no ill effects, which they can replace astonishingly quickly, as they are able to drink up to forty gallons in a single watering. (pp.69-70)',\n",
              " 106)"
            ]
          },
          "execution_count": 11,
          "metadata": {},
          "output_type": "execute_result"
        }
      ],
      "source": [
        "def max_words_sentence(sentences):\n",
        "    sentence_lengths = [len(s.split()) for s in sentences]\n",
        "    max_length = max(sentence_lengths)\n",
        "    max_sentence = sentences[sentence_lengths.index(max_length)]\n",
        "    return max_sentence, max_length\n",
        "max_words_sentence(new_dataset['quotes'])"
      ]
    },
    {
      "cell_type": "code",
      "execution_count": 12,
      "metadata": {
        "id": "Ca6b1fFZMB2A"
      },
      "outputs": [],
      "source": [
        "max_length_value=768"
      ]
    },
    {
      "cell_type": "code",
      "execution_count": 13,
      "metadata": {
        "id": "H7tEwgnlC9_P"
      },
      "outputs": [],
      "source": [
        "class QuotesDataset(Dataset):\n",
        "    def __init__(self, quotes, tokenizer,max_length_value):\n",
        "        self.input_ids = []\n",
        "        self.attn_masks = []\n",
        "        self.tokenizer = tokenizer\n",
        "\n",
        "        for quote in quotes:\n",
        "          encodings_dict = tokenizer(\"<|startoftext|>\"+quote+\"<|endoftext|>\",\n",
        "                                    truncation=True,\n",
        "                                    max_length=max_length_value,\n",
        "                                    padding=\"max_length\") #We are using max length padding\n",
        "          \n",
        "          self.input_ids.append(torch.tensor(encodings_dict[\"input_ids\"]))\n",
        "          self.attn_masks.append(torch.tensor(encodings_dict[\"attention_mask\"]))\n",
        "\n",
        "    def __len__(self):\n",
        "        return len(self.input_ids)\n",
        "\n",
        "    def __getitem__(self, idx):\n",
        "        return self.input_ids[idx], self.attn_masks[idx]"
      ]
    },
    {
      "cell_type": "code",
      "execution_count": 14,
      "metadata": {
        "id": "3-HcjRmPLFCm"
      },
      "outputs": [],
      "source": [
        "#Hyper parameters\n",
        "\n",
        "all_hyper_parameters= {\n",
        "    \"batch_size\":[4,5],\n",
        "    \"lr\":[2e-5,5e-5],\n",
        "    \"optimizer\":['AdamW','Adagrad'],\n",
        "    \"warmup_steps\":[100,500],\n",
        "    \"num_epochs\": [4, 5],\n",
        "    }"
      ]
    },
    {
      "cell_type": "code",
      "execution_count": 15,
      "metadata": {},
      "outputs": [
        {
          "name": "stderr",
          "output_type": "stream",
          "text": [
            "Special tokens have been added in the vocabulary, make sure the associated word embeddings are fine-tuned or trained.\n"
          ]
        },
        {
          "name": "stdout",
          "output_type": "stream",
          "text": [
            "76 19\n",
            "num_epochs: 4 batch_size: 4 learning_rate: 2e-05 optimizer: AdamW warm_up_step: 100\n",
            "Beginning epoch 1 of 4\n"
          ]
        },
        {
          "name": "stderr",
          "output_type": "stream",
          "text": [
            "c:\\Users\\priya\\anaconda3\\envs\\my_env_2\\lib\\site-packages\\transformers\\optimization.py:395: FutureWarning: This implementation of AdamW is deprecated and will be removed in a future version. Use the PyTorch implementation torch.optim.AdamW instead, or set `no_deprecation_warning=True` to disable this warning\n",
            "  FutureWarning,\n"
          ]
        },
        {
          "name": "stdout",
          "output_type": "stream",
          "text": [
            "Average Training Loss: 4.474377883108039.\n",
            "Validation loss: 2.4293541431427004.\n",
            "Beginning epoch 2 of 4\n",
            "Average Training Loss: 3.61909860686252.\n",
            "Validation loss: 2.190308618545532.\n",
            "Beginning epoch 3 of 4\n",
            "Average Training Loss: 2.8734424176969027.\n",
            "Validation loss: 1.6469926118850708.\n",
            "Beginning epoch 4 of 4\n",
            "Average Training Loss: 1.4936197400093079.\n",
            "Validation loss: 0.6033959507942199.\n",
            "num_epochs: 4 batch_size: 4 learning_rate: 2e-05 optimizer: AdamW warm_up_step: 100.0\n",
            "Beginning epoch 1 of 4\n",
            "Average Training Loss: 0.6911552564093941.\n",
            "Validation loss: 0.5306844651699066.\n",
            "Beginning epoch 2 of 4\n",
            "Average Training Loss: 0.5119795720828207.\n",
            "Validation loss: 0.3024665892124176.\n",
            "Beginning epoch 3 of 4\n",
            "Average Training Loss: 0.3634304592483922.\n",
            "Validation loss: 0.20162872970104218.\n",
            "Beginning epoch 4 of 4\n",
            "Average Training Loss: 0.277960794536691.\n",
            "Validation loss: 0.16355307698249816.\n",
            "num_epochs: 4 batch_size: 4 learning_rate: 2e-05 optimizer: Adagrad warm_up_step: 100\n",
            "Beginning epoch 1 of 4\n",
            "Average Training Loss: 0.24886220144598106.\n",
            "Validation loss: 0.1596057742834091.\n",
            "Beginning epoch 2 of 4\n",
            "Average Training Loss: 0.23669194861462242.\n",
            "Validation loss: 0.15551755726337432.\n",
            "Beginning epoch 3 of 4\n",
            "Average Training Loss: 0.2362900674343109.\n",
            "Validation loss: 0.150829741358757.\n",
            "Beginning epoch 4 of 4\n",
            "Average Training Loss: 0.28623535915424947.\n",
            "Validation loss: 0.15380288362503053.\n",
            "num_epochs: 4 batch_size: 4 learning_rate: 2e-05 optimizer: Adagrad warm_up_step: 100.0\n",
            "Beginning epoch 1 of 4\n",
            "Average Training Loss: 0.2288353086302155.\n",
            "Validation loss: 0.15043127536773682.\n",
            "Beginning epoch 2 of 4\n",
            "Average Training Loss: 0.22697621348657107.\n",
            "Validation loss: 0.14658156037330627.\n",
            "Beginning epoch 3 of 4\n",
            "Average Training Loss: 0.22057673687997617.\n",
            "Validation loss: 0.1425343483686447.\n",
            "Beginning epoch 4 of 4\n",
            "Average Training Loss: 0.21471354365348816.\n",
            "Validation loss: 0.14025721848011016.\n",
            "num_epochs: 5 batch_size: 4 learning_rate: 2e-05 optimizer: AdamW warm_up_step: 100\n",
            "Beginning epoch 1 of 5\n",
            "Average Training Loss: 0.21021602420430435.\n",
            "Validation loss: 0.13716062009334565.\n",
            "Beginning epoch 2 of 5\n",
            "Average Training Loss: 0.21016833343003927.\n",
            "Validation loss: 0.13374117761850357.\n",
            "Beginning epoch 3 of 5\n",
            "Average Training Loss: 0.192067294136474.\n",
            "Validation loss: 0.12846313267946244.\n",
            "Beginning epoch 4 of 5\n",
            "Average Training Loss: 0.1789254934379929.\n",
            "Validation loss: 0.1232555404305458.\n",
            "Beginning epoch 5 of 5\n",
            "Average Training Loss: 0.1718279135070349.\n",
            "Validation loss: 0.12056716084480286.\n",
            "num_epochs: 5 batch_size: 4 learning_rate: 2e-05 optimizer: AdamW warm_up_step: 100.0\n",
            "Beginning epoch 1 of 5\n",
            "Average Training Loss: 0.16577040639362836.\n",
            "Validation loss: 0.11899038702249527.\n",
            "Beginning epoch 2 of 5\n",
            "Average Training Loss: 0.1610904355582438.\n",
            "Validation loss: 0.11691303998231888.\n",
            "Beginning epoch 3 of 5\n",
            "Average Training Loss: 0.1574277822908602.\n",
            "Validation loss: 0.11718527376651763.\n",
            "Beginning epoch 4 of 5\n",
            "Average Training Loss: 0.15272327434075506.\n",
            "Validation loss: 0.11571587771177291.\n",
            "Beginning epoch 5 of 5\n",
            "Average Training Loss: 0.14884955396777705.\n",
            "Validation loss: 0.11490615904331207.\n",
            "num_epochs: 5 batch_size: 4 learning_rate: 2e-05 optimizer: Adagrad warm_up_step: 100\n",
            "Beginning epoch 1 of 5\n",
            "Average Training Loss: 0.1455851726626095.\n",
            "Validation loss: 0.11472752094268798.\n",
            "Beginning epoch 2 of 5\n",
            "Average Training Loss: 0.14341186928121666.\n",
            "Validation loss: 0.11451485753059387.\n",
            "Beginning epoch 3 of 5\n",
            "Average Training Loss: 0.14341129009660922.\n",
            "Validation loss: 0.11442597210407257.\n",
            "Beginning epoch 4 of 5\n",
            "Average Training Loss: 0.14225131292876445.\n",
            "Validation loss: 0.11425985991954804.\n",
            "Beginning epoch 5 of 5\n",
            "Average Training Loss: 0.1404120373098474.\n",
            "Validation loss: 0.11412962526082993.\n",
            "num_epochs: 5 batch_size: 4 learning_rate: 2e-05 optimizer: Adagrad warm_up_step: 100.0\n",
            "Beginning epoch 1 of 5\n",
            "Average Training Loss: 0.1385077038093617.\n",
            "Validation loss: 0.11414471119642258.\n",
            "Beginning epoch 2 of 5\n",
            "Average Training Loss: 0.1387413700944499.\n",
            "Validation loss: 0.11415224969387054.\n",
            "Beginning epoch 3 of 5\n",
            "Average Training Loss: 0.1384327780259283.\n",
            "Validation loss: 0.11424437463283539.\n",
            "Beginning epoch 4 of 5\n",
            "Average Training Loss: 0.13702425203825297.\n",
            "Validation loss: 0.11420363038778306.\n",
            "Beginning epoch 5 of 5\n",
            "Average Training Loss: 0.13589349036153994.\n",
            "Validation loss: 0.11415012180805206.\n",
            "num_epochs: 4 batch_size: 4 learning_rate: 5e-05 optimizer: AdamW warm_up_step: 100\n",
            "Beginning epoch 1 of 4\n",
            "Average Training Loss: 0.13585228355307327.\n",
            "Validation loss: 0.11420257240533829.\n",
            "Beginning epoch 2 of 4\n",
            "Average Training Loss: 0.1315063538127824.\n",
            "Validation loss: 0.11393139511346817.\n",
            "Beginning epoch 3 of 4\n",
            "Average Training Loss: 0.12423528593621756.\n",
            "Validation loss: 0.11408805549144745.\n",
            "Beginning epoch 4 of 4\n",
            "Average Training Loss: 0.11541436514572094.\n",
            "Validation loss: 0.11437040865421295.\n",
            "num_epochs: 4 batch_size: 4 learning_rate: 5e-05 optimizer: AdamW warm_up_step: 100.0\n",
            "Beginning epoch 1 of 4\n",
            "Average Training Loss: 0.10870529573998954.\n",
            "Validation loss: 0.11570902913808823.\n",
            "Beginning epoch 2 of 4\n",
            "Average Training Loss: 0.10498497242990293.\n",
            "Validation loss: 0.11682094484567643.\n",
            "Beginning epoch 3 of 4\n",
            "Average Training Loss: 0.09909571668035105.\n",
            "Validation loss: 0.11913925409317017.\n",
            "Beginning epoch 4 of 4\n",
            "Average Training Loss: 0.09149417830140967.\n",
            "Validation loss: 0.12180364727973939.\n",
            "num_epochs: 4 batch_size: 4 learning_rate: 5e-05 optimizer: Adagrad warm_up_step: 100\n",
            "Beginning epoch 1 of 4\n",
            "Average Training Loss: 0.08361201223574187.\n",
            "Validation loss: 0.12213393151760102.\n",
            "Beginning epoch 2 of 4\n",
            "Average Training Loss: 0.08317020319794353.\n",
            "Validation loss: 0.12274197340011597.\n",
            "Beginning epoch 3 of 4\n",
            "Average Training Loss: 0.08267867074985254.\n",
            "Validation loss: 0.1233616128563881.\n",
            "Beginning epoch 4 of 4\n",
            "Average Training Loss: 0.08184987228167684.\n",
            "Validation loss: 0.12347362190485.\n",
            "num_epochs: 4 batch_size: 4 learning_rate: 5e-05 optimizer: Adagrad warm_up_step: 100.0\n",
            "Beginning epoch 1 of 4\n",
            "Average Training Loss: 0.08147101104259491.\n",
            "Validation loss: 0.12361990809440612.\n",
            "Beginning epoch 2 of 4\n",
            "Average Training Loss: 0.07835082356867037.\n",
            "Validation loss: 0.12406462877988815.\n",
            "Beginning epoch 3 of 4\n",
            "Average Training Loss: 0.0778979672805259.\n",
            "Validation loss: 0.12435606122016907.\n",
            "Beginning epoch 4 of 4\n",
            "Average Training Loss: 0.07903363653703739.\n",
            "Validation loss: 0.12441097348928451.\n",
            "num_epochs: 5 batch_size: 4 learning_rate: 5e-05 optimizer: AdamW warm_up_step: 100\n",
            "Beginning epoch 1 of 5\n",
            "Average Training Loss: 0.07749713212251663.\n",
            "Validation loss: 0.1259343758225441.\n",
            "Beginning epoch 2 of 5\n",
            "Average Training Loss: 0.07429795437737514.\n",
            "Validation loss: 0.12616365253925324.\n",
            "Beginning epoch 3 of 5\n",
            "Average Training Loss: 0.06900934110346593.\n",
            "Validation loss: 0.13172308057546617.\n",
            "Beginning epoch 4 of 5\n",
            "Average Training Loss: 0.06734146922826767.\n",
            "Validation loss: 0.1324445605278015.\n",
            "Beginning epoch 5 of 5\n",
            "Average Training Loss: 0.058655723831371256.\n",
            "Validation loss: 0.13315775990486145.\n",
            "num_epochs: 5 batch_size: 4 learning_rate: 5e-05 optimizer: AdamW warm_up_step: 100.0\n",
            "Beginning epoch 1 of 5\n",
            "Average Training Loss: 0.054587418605622495.\n",
            "Validation loss: 0.1355688139796257.\n",
            "Beginning epoch 2 of 5\n",
            "Average Training Loss: 0.0503393007736457.\n",
            "Validation loss: 0.13850462883710862.\n",
            "Beginning epoch 3 of 5\n",
            "Average Training Loss: 0.04804768932885245.\n",
            "Validation loss: 0.1445980489253998.\n",
            "Beginning epoch 4 of 5\n",
            "Average Training Loss: 0.04263366817643768.\n",
            "Validation loss: 0.14553895890712737.\n",
            "Beginning epoch 5 of 5\n",
            "Average Training Loss: 0.037837287607161624.\n",
            "Validation loss: 0.14656974673271178.\n",
            "num_epochs: 5 batch_size: 4 learning_rate: 5e-05 optimizer: Adagrad warm_up_step: 100\n",
            "Beginning epoch 1 of 5\n",
            "Average Training Loss: 0.03550459846462074.\n",
            "Validation loss: 0.1476396143436432.\n",
            "Beginning epoch 2 of 5\n",
            "Average Training Loss: 0.03297477774322033.\n",
            "Validation loss: 0.14929909110069275.\n",
            "Beginning epoch 3 of 5\n",
            "Average Training Loss: 0.03404303581306809.\n",
            "Validation loss: 0.1500795751810074.\n",
            "Beginning epoch 4 of 5\n",
            "Average Training Loss: 0.03317678964843875.\n",
            "Validation loss: 0.15070902109146117.\n",
            "Beginning epoch 5 of 5\n",
            "Average Training Loss: 0.03254776227434999.\n",
            "Validation loss: 0.15169273614883422.\n",
            "num_epochs: 5 batch_size: 4 learning_rate: 5e-05 optimizer: Adagrad warm_up_step: 100.0\n",
            "Beginning epoch 1 of 5\n",
            "Average Training Loss: 0.03084847595738737.\n",
            "Validation loss: 0.1519944578409195.\n",
            "Beginning epoch 2 of 5\n",
            "Average Training Loss: 0.030457150485170514.\n",
            "Validation loss: 0.1529315173625946.\n",
            "Beginning epoch 3 of 5\n",
            "Average Training Loss: 0.02991867222284016.\n",
            "Validation loss: 0.15430113077163696.\n",
            "Beginning epoch 4 of 5\n",
            "Average Training Loss: 0.030262754641865428.\n",
            "Validation loss: 0.15429268181324005.\n",
            "Beginning epoch 5 of 5\n",
            "Average Training Loss: 0.027850080183462092.\n",
            "Validation loss: 0.1555244505405426.\n",
            "num_epochs: 4 batch_size: 5 learning_rate: 2e-05 optimizer: AdamW warm_up_step: 100\n",
            "Beginning epoch 1 of 4\n",
            "Average Training Loss: 0.029140107915736735.\n",
            "Validation loss: 0.15667979046702385.\n",
            "Beginning epoch 2 of 4\n",
            "Average Training Loss: 0.028024899889715016.\n",
            "Validation loss: 0.15708713605999947.\n",
            "Beginning epoch 3 of 4\n",
            "Average Training Loss: 0.029626009054481983.\n",
            "Validation loss: 0.15717178583145142.\n",
            "Beginning epoch 4 of 4\n",
            "Average Training Loss: 0.02719554177019745.\n",
            "Validation loss: 0.15835636481642723.\n",
            "num_epochs: 4 batch_size: 5 learning_rate: 2e-05 optimizer: AdamW warm_up_step: 100.0\n",
            "Beginning epoch 1 of 4\n",
            "Average Training Loss: 0.0262773756403476.\n",
            "Validation loss: 0.15764163807034492.\n",
            "Beginning epoch 2 of 4\n",
            "Average Training Loss: 0.026016616204287857.\n",
            "Validation loss: 0.15898091718554497.\n",
            "Beginning epoch 3 of 4\n",
            "Average Training Loss: 0.024896451679524034.\n",
            "Validation loss: 0.15901171416044235.\n",
            "Beginning epoch 4 of 4\n",
            "Average Training Loss: 0.02494117117021233.\n",
            "Validation loss: 0.16048935800790787.\n",
            "num_epochs: 4 batch_size: 5 learning_rate: 2e-05 optimizer: Adagrad warm_up_step: 100\n",
            "Beginning epoch 1 of 4\n",
            "Average Training Loss: 0.02289353997912258.\n",
            "Validation loss: 0.1605517379939556.\n",
            "Beginning epoch 2 of 4\n",
            "Average Training Loss: 0.021679824742022902.\n",
            "Validation loss: 0.16078532114624977.\n",
            "Beginning epoch 3 of 4\n",
            "Average Training Loss: 0.022569288150407374.\n",
            "Validation loss: 0.161234762519598.\n",
            "Beginning epoch 4 of 4\n",
            "Average Training Loss: 0.023142764577642083.\n",
            "Validation loss: 0.16111349314451218.\n",
            "num_epochs: 4 batch_size: 5 learning_rate: 2e-05 optimizer: Adagrad warm_up_step: 100.0\n",
            "Beginning epoch 1 of 4\n",
            "Average Training Loss: 0.023710343928541988.\n",
            "Validation loss: 0.16133452206850052.\n",
            "Beginning epoch 2 of 4\n",
            "Average Training Loss: 0.0233402211451903.\n",
            "Validation loss: 0.16145556792616844.\n",
            "Beginning epoch 3 of 4\n",
            "Average Training Loss: 0.02271929878043011.\n",
            "Validation loss: 0.16190438717603683.\n",
            "Beginning epoch 4 of 4\n",
            "Average Training Loss: 0.024111478531267494.\n",
            "Validation loss: 0.16230237111449242.\n",
            "num_epochs: 5 batch_size: 5 learning_rate: 2e-05 optimizer: AdamW warm_up_step: 100\n",
            "Beginning epoch 1 of 5\n",
            "Average Training Loss: 0.022839595330879092.\n",
            "Validation loss: 0.1620577909052372.\n",
            "Beginning epoch 2 of 5\n",
            "Average Training Loss: 0.021326436137314886.\n",
            "Validation loss: 0.16286305338144302.\n",
            "Beginning epoch 3 of 5\n",
            "Average Training Loss: 0.021188235783483833.\n",
            "Validation loss: 0.1639196053147316.\n",
            "Beginning epoch 4 of 5\n",
            "Average Training Loss: 0.021754120592959225.\n",
            "Validation loss: 0.16577109694480896.\n",
            "Beginning epoch 5 of 5\n",
            "Average Training Loss: 0.020916534354910254.\n",
            "Validation loss: 0.16527725011110306.\n",
            "num_epochs: 5 batch_size: 5 learning_rate: 2e-05 optimizer: AdamW warm_up_step: 100.0\n",
            "Beginning epoch 1 of 5\n",
            "Average Training Loss: 0.019036356708966196.\n",
            "Validation loss: 0.16581954061985016.\n",
            "Beginning epoch 2 of 5\n",
            "Average Training Loss: 0.01887445943430066.\n",
            "Validation loss: 0.16409385204315186.\n",
            "Beginning epoch 3 of 5\n",
            "Average Training Loss: 0.018938560446258634.\n",
            "Validation loss: 0.1639583632349968.\n",
            "Beginning epoch 4 of 5\n",
            "Average Training Loss: 0.01940133882453665.\n",
            "Validation loss: 0.16594453901052475.\n",
            "Beginning epoch 5 of 5\n",
            "Average Training Loss: 0.017996569979004562.\n",
            "Validation loss: 0.16630661487579346.\n",
            "num_epochs: 5 batch_size: 5 learning_rate: 2e-05 optimizer: Adagrad warm_up_step: 100\n",
            "Beginning epoch 1 of 5\n",
            "Average Training Loss: 0.016700120642781258.\n",
            "Validation loss: 0.16665411740541458.\n",
            "Beginning epoch 2 of 5\n",
            "Average Training Loss: 0.01677253656089306.\n",
            "Validation loss: 0.16656352579593658.\n",
            "Beginning epoch 3 of 5\n",
            "Average Training Loss: 0.01612482755444944.\n",
            "Validation loss: 0.1666601188480854.\n",
            "Beginning epoch 4 of 5\n",
            "Average Training Loss: 0.01737411558860913.\n",
            "Validation loss: 0.1667417585849762.\n",
            "Beginning epoch 5 of 5\n",
            "Average Training Loss: 0.016611484228633344.\n",
            "Validation loss: 0.16704874113202095.\n",
            "num_epochs: 5 batch_size: 5 learning_rate: 2e-05 optimizer: Adagrad warm_up_step: 100.0\n",
            "Beginning epoch 1 of 5\n",
            "Average Training Loss: 0.0163300622953102.\n",
            "Validation loss: 0.16728689149022102.\n",
            "Beginning epoch 2 of 5\n",
            "Average Training Loss: 0.01719462580513209.\n",
            "Validation loss: 0.16749979928135872.\n",
            "Beginning epoch 3 of 5\n",
            "Average Training Loss: 0.016296318150125444.\n",
            "Validation loss: 0.16762537881731987.\n",
            "Beginning epoch 4 of 5\n",
            "Average Training Loss: 0.018935164785943925.\n",
            "Validation loss: 0.16760608926415443.\n",
            "Beginning epoch 5 of 5\n",
            "Average Training Loss: 0.01767444796860218.\n",
            "Validation loss: 0.1678244061768055.\n",
            "num_epochs: 4 batch_size: 5 learning_rate: 5e-05 optimizer: AdamW warm_up_step: 100\n",
            "Beginning epoch 1 of 4\n",
            "Average Training Loss: 0.01747978723142296.\n",
            "Validation loss: 0.16775649785995483.\n",
            "Beginning epoch 2 of 4\n",
            "Average Training Loss: 0.016915488231461495.\n",
            "Validation loss: 0.16601181402802467.\n",
            "Beginning epoch 3 of 4\n",
            "Average Training Loss: 0.016030554252211004.\n",
            "Validation loss: 0.17043806239962578.\n",
            "Beginning epoch 4 of 4\n",
            "Average Training Loss: 0.014963722496759146.\n",
            "Validation loss: 0.17013930156826973.\n",
            "num_epochs: 4 batch_size: 5 learning_rate: 5e-05 optimizer: AdamW warm_up_step: 100.0\n",
            "Beginning epoch 1 of 4\n",
            "Average Training Loss: 0.01456480345223099.\n",
            "Validation loss: 0.17109452188014984.\n",
            "Beginning epoch 2 of 4\n",
            "Average Training Loss: 0.014639086090028286.\n",
            "Validation loss: 0.17004938051104546.\n",
            "Beginning epoch 3 of 4\n",
            "Average Training Loss: 0.01449363143183291.\n",
            "Validation loss: 0.17226843535900116.\n",
            "Beginning epoch 4 of 4\n",
            "Average Training Loss: 0.01347620104206726.\n",
            "Validation loss: 0.1769864782691002.\n",
            "num_epochs: 4 batch_size: 5 learning_rate: 5e-05 optimizer: Adagrad warm_up_step: 100\n",
            "Beginning epoch 1 of 4\n",
            "Average Training Loss: 0.013097947929054499.\n",
            "Validation loss: 0.1767847053706646.\n",
            "Beginning epoch 2 of 4\n",
            "Average Training Loss: 0.012938754807692021.\n",
            "Validation loss: 0.17629390582442284.\n",
            "Beginning epoch 3 of 4\n",
            "Average Training Loss: 0.013394632143899798.\n",
            "Validation loss: 0.17573459073901176.\n",
            "Beginning epoch 4 of 4\n",
            "Average Training Loss: 0.012475020834244788.\n",
            "Validation loss: 0.17525019869208336.\n",
            "num_epochs: 4 batch_size: 5 learning_rate: 5e-05 optimizer: Adagrad warm_up_step: 100.0\n",
            "Beginning epoch 1 of 4\n",
            "Average Training Loss: 0.013505792681826279.\n",
            "Validation loss: 0.17512211203575134.\n",
            "Beginning epoch 2 of 4\n",
            "Average Training Loss: 0.01307334570446983.\n",
            "Validation loss: 0.17553266882896423.\n",
            "Beginning epoch 3 of 4\n",
            "Average Training Loss: 0.011874097137479112.\n",
            "Validation loss: 0.17620423063635826.\n",
            "Beginning epoch 4 of 4\n",
            "Average Training Loss: 0.012083708366844803.\n",
            "Validation loss: 0.17576656118035316.\n",
            "num_epochs: 5 batch_size: 5 learning_rate: 5e-05 optimizer: AdamW warm_up_step: 100\n",
            "Beginning epoch 1 of 5\n",
            "Average Training Loss: 0.011570804170332849.\n",
            "Validation loss: 0.17539284005761147.\n",
            "Beginning epoch 2 of 5\n",
            "Average Training Loss: 0.012788616819307208.\n",
            "Validation loss: 0.17807084694504738.\n",
            "Beginning epoch 3 of 5\n",
            "Average Training Loss: 0.011987495701760054.\n",
            "Validation loss: 0.17476996406912804.\n",
            "Beginning epoch 4 of 5\n",
            "Average Training Loss: 0.011844631168060005.\n",
            "Validation loss: 0.17825040593743324.\n",
            "Beginning epoch 5 of 5\n",
            "Average Training Loss: 0.011904848099220544.\n",
            "Validation loss: 0.1804015412926674.\n",
            "num_epochs: 5 batch_size: 5 learning_rate: 5e-05 optimizer: AdamW warm_up_step: 100.0\n",
            "Beginning epoch 1 of 5\n",
            "Average Training Loss: 0.011636852053925395.\n",
            "Validation loss: 0.1789131462574005.\n",
            "Beginning epoch 2 of 5\n",
            "Average Training Loss: 0.012061689922120422.\n",
            "Validation loss: 0.18106617778539658.\n",
            "Beginning epoch 3 of 5\n",
            "Average Training Loss: 0.011186463962076232.\n",
            "Validation loss: 0.18086492270231247.\n",
            "Beginning epoch 4 of 5\n",
            "Average Training Loss: 0.012292893312405795.\n",
            "Validation loss: 0.17901663482189178.\n",
            "Beginning epoch 5 of 5\n",
            "Average Training Loss: 0.012076641345629469.\n",
            "Validation loss: 0.1785912699997425.\n",
            "num_epochs: 5 batch_size: 5 learning_rate: 5e-05 optimizer: Adagrad warm_up_step: 100\n",
            "Beginning epoch 1 of 5\n",
            "Average Training Loss: 0.011031823232769966.\n",
            "Validation loss: 0.1790408343076706.\n",
            "Beginning epoch 2 of 5\n",
            "Average Training Loss: 0.011025025480194017.\n",
            "Validation loss: 0.17946160957217216.\n",
            "Beginning epoch 3 of 5\n",
            "Average Training Loss: 0.011690670537063852.\n",
            "Validation loss: 0.17978210374712944.\n",
            "Beginning epoch 4 of 5\n",
            "Average Training Loss: 0.0096498669590801.\n",
            "Validation loss: 0.1795295774936676.\n",
            "Beginning epoch 5 of 5\n",
            "Average Training Loss: 0.010462969192303717.\n",
            "Validation loss: 0.17951121553778648.\n",
            "num_epochs: 5 batch_size: 5 learning_rate: 5e-05 optimizer: Adagrad warm_up_step: 100.0\n",
            "Beginning epoch 1 of 5\n",
            "Average Training Loss: 0.01077153897495009.\n",
            "Validation loss: 0.17948349565267563.\n",
            "Beginning epoch 2 of 5\n",
            "Average Training Loss: 0.009754474274814129.\n",
            "Validation loss: 0.1802312694489956.\n",
            "Beginning epoch 3 of 5\n",
            "Average Training Loss: 0.01054965314688161.\n",
            "Validation loss: 0.18065205961465836.\n",
            "Beginning epoch 4 of 5\n",
            "Average Training Loss: 0.010106675152201205.\n",
            "Validation loss: 0.1802975758910179.\n",
            "Beginning epoch 5 of 5\n",
            "Average Training Loss: 0.0102799225714989.\n",
            "Validation loss: 0.18077092245221138.\n"
          ]
        }
      ],
      "source": [
        "quotes = new_dataset['quotes']\n",
        "tokenizer = GPT2Tokenizer.from_pretrained('gpt2', \n",
        "                                          bos_token='<|startoftext|>', \n",
        "                                          eos_token='<|endoftext|>', \n",
        "                                          pad_token='<|pad|>')\n",
        "\n",
        "final_dataset = QuotesDataset(quotes, tokenizer,max_length_value)\n",
        "train_size = int(0.8*len(final_dataset))\n",
        "val_size = len(final_dataset) - train_size\n",
        "print(train_size,val_size)\n",
        "train_dataset, val_dataset = random_split(final_dataset, [train_size, val_size])\n",
        "\n",
        "# Load model configuration\n",
        "config = GPT2Config.from_pretrained(\"gpt2\")\n",
        "\n",
        "# Create model instance and set embedding length\n",
        "model = GPT2LMHeadModel.from_pretrained(\"gpt2\", config=config)\n",
        "model.resize_token_embeddings(len(tokenizer))\n",
        "\n",
        "# Running the model on GPU\n",
        "model = model.to(device)\n",
        "\n",
        "grid=ParameterGrid(all_hyper_parameters)\n",
        "loss_values=[]\n",
        "combination=0\n",
        "for hyper_param in grid: \n",
        "    combination=combination+1\n",
        "    print(f'combination {combination} ,num_epochs: {hyper_param[\"num_epochs\"]} ,batch_size: {hyper_param[\"batch_size\"]} ,learning_rate: {hyper_param[\"lr\"]} ,optimizer: {hyper_param[\"optimizer\"]} ,warm_up_step: {hyper_param[\"warmup_steps\"]}')\n",
        "    train_dataloader = DataLoader(train_dataset,\n",
        "                                sampler=RandomSampler(train_dataset),\n",
        "                                batch_size=hyper_param['batch_size'])\n",
        "\n",
        "    val_dataloader = DataLoader(val_dataset,\n",
        "                                sampler=SequentialSampler(val_dataset),\n",
        "                                batch_size=hyper_param['batch_size'])\n",
        "\n",
        "    if hyper_param['optimizer']=='AdamW':\n",
        "        optimizer = AdamW(model.parameters(), lr=hyper_param['lr'], eps=1e-8)\n",
        "    else:\n",
        "        optimizer = optim.Adagrad(model.parameters(), lr=hyper_param['lr'])\n",
        "\n",
        "\n",
        "    # Toatl training steps is the number of data points times the number of epochs\n",
        "    total_training_steps = len(train_dataloader)*hyper_param['num_epochs']\n",
        "\n",
        "    # Setting a variable learning rate using scheduler\n",
        "    scheduler = get_linear_schedule_with_warmup(optimizer,\n",
        "                                                num_warmup_steps=hyper_param['warmup_steps'],\n",
        "                                                num_training_steps=total_training_steps)\n",
        "    training_stats = []\n",
        "    all_training_loss=[]\n",
        "    all_valid_loss=[]\n",
        "    for epoch_i in range(hyper_param['num_epochs']):\n",
        "        print(f\"Beginning epoch {epoch_i+1} of {hyper_param['num_epochs']}\")\n",
        "        total_train_loss = 0\n",
        "        model.train()\n",
        "\n",
        "        # Labels are shifted by 1 timestep\n",
        "        for step, batch in enumerate(train_dataloader):\n",
        "            b_input_ids = batch[0].to(device)\n",
        "            b_labels = batch[0].to(device)\n",
        "            b_masks = batch[1].to(device)\n",
        "\n",
        "            model.zero_grad()\n",
        "\n",
        "            outputs = model(b_input_ids,\n",
        "                            labels=b_labels,\n",
        "                            attention_mask=b_masks)\n",
        "            \n",
        "            loss = outputs[0]\n",
        "\n",
        "            batch_loss = loss.item()\n",
        "            total_train_loss += batch_loss\n",
        "            loss.backward()\n",
        "            optimizer.step()\n",
        "            scheduler.step()\n",
        "\n",
        "        all_training_loss.append(total_train_loss)\n",
        "        avg_train_loss = total_train_loss / len(train_dataloader)\n",
        "        print(f'Average Training Loss: {avg_train_loss}.')\n",
        "        \n",
        "        model.eval()\n",
        "\n",
        "        total_eval_loss = 0\n",
        "        nb_eval_steps = 0\n",
        "\n",
        "        for batch in val_dataloader:\n",
        "            b_input_ids = batch[0].to(device)\n",
        "            b_labels = batch[0].to(device)\n",
        "            b_masks = batch[1].to(device)\n",
        "                \n",
        "            with torch.no_grad():        \n",
        "\n",
        "                outputs  = model(b_input_ids,  \n",
        "                                attention_mask = b_masks,\n",
        "                                labels=b_labels)\n",
        "                \n",
        "                loss = outputs[0]  \n",
        "                    \n",
        "            batch_loss = loss.item()\n",
        "            total_eval_loss += batch_loss   \n",
        "\n",
        "        all_valid_loss.append(total_eval_loss)\n",
        "        avg_val_loss = total_eval_loss / len(val_dataloader) \n",
        "        print(f'Validation loss: {avg_val_loss}.')\n",
        "        hyper_dict = {\n",
        "        \"hyperparameters\": f'num_epochs: {hyper_param[\"num_epochs\"]} batch_size: {hyper_param[\"batch_size\"]} learning_rate: {hyper_param[\"lr\"]} optimizer: {hyper_param[\"optimizer\"]} warm_up_step: {hyper_param[\"warmup_steps\"]}',\n",
        "        \"train_loss\": all_training_loss,\n",
        "        \"val_loss\": all_valid_loss}\n",
        "        loss_values.append(hyper_dict)\n",
        "  "
      ]
    },
    {
      "cell_type": "code",
      "execution_count": 17,
      "metadata": {},
      "outputs": [
        {
          "data": {
            "image/png": "[encoded data removed]",
            "text/plain": [
              "<Figure size 800x600 with 1 Axes>"
            ]
          },
          "metadata": {},
          "output_type": "display_data"
        }
      ],
      "source": [
        "fig, ax = plt.subplots()\n",
        "\n",
        "# Plot the training and validation loss values for each combination\n",
        "for combo in loss_values:\n",
        "    ax.plot(combo['train_loss'], label=f\"Train Loss: {combo['hyperparameters']}\")\n",
        "    ax.plot(combo['val_loss'], label=f\"Val Loss: {combo['hyperparameters']}\")\n",
        "\n",
        "# Add axis labels and a legend\n",
        "ax.set_xlabel(\"Epoch\")\n",
        "ax.set_ylabel(\"Loss\")\n",
        "# ax.legend()\n",
        "\n",
        "# Show the plot\n",
        "plt.show()"
      ]
    },
    {
      "cell_type": "code",
      "execution_count": null,
      "metadata": {},
      "outputs": [],
      "source": [
        "batch_size = 5\n",
        "num_epochs=10\n",
        "lr=2e-5"
      ]
    },
    {
      "cell_type": "code",
      "execution_count": 47,
      "metadata": {
        "id": "Bi1D2fCtpGIw"
      },
      "outputs": [
        {
          "name": "stderr",
          "output_type": "stream",
          "text": [
            "Special tokens have been added in the vocabulary, make sure the associated word embeddings are fine-tuned or trained.\n"
          ]
        }
      ],
      "source": [
        "quotes = new_dataset['quotes']\n",
        "tokenizer = GPT2Tokenizer.from_pretrained('gpt2', \n",
        "                                          bos_token='<|startoftext|>', \n",
        "                                          eos_token='<|endoftext|>', \n",
        "                                          pad_token='<|pad|>')\n",
        "\n",
        "final_dataset = QuotesDataset(quotes, tokenizer,max_length_value)"
      ]
    },
    {
      "cell_type": "code",
      "execution_count": 48,
      "metadata": {
        "colab": {
          "base_uri": "https://localhost:8080/"
        },
        "id": "-_jCUFFAONN8",
        "outputId": "364eee60-db24-41a4-83e3-8bb45d773cc8"
      },
      "outputs": [
        {
          "name": "stdout",
          "output_type": "stream",
          "text": [
            "22959 5740\n"
          ]
        }
      ],
      "source": [
        "train_size = int(0.8*len(final_dataset))\n",
        "val_size = len(final_dataset) - train_size\n",
        "print(train_size,val_size)\n",
        "train_dataset, val_dataset = random_split(final_dataset, [train_size, val_size])\n",
        "train_dataloader = DataLoader(train_dataset,\n",
        "                              sampler=RandomSampler(train_dataset),\n",
        "                              batch_size=batch_size)\n",
        "\n",
        "val_dataloader = DataLoader(val_dataset,\n",
        "                            sampler=SequentialSampler(val_dataset),\n",
        "                            batch_size=batch_size)"
      ]
    },
    {
      "cell_type": "code",
      "execution_count": 49,
      "metadata": {
        "id": "aKFObxcPOwCU"
      },
      "outputs": [],
      "source": [
        "# Load model configuration\n",
        "config = GPT2Config.from_pretrained(\"gpt2\")\n",
        "\n",
        "# Create model instance and set embedding length\n",
        "model = GPT2LMHeadModel.from_pretrained(\"gpt2\", config=config)\n",
        "model.resize_token_embeddings(len(tokenizer))\n",
        "\n",
        "# Running the model on GPU\n",
        "model = model.to(device)"
      ]
    },
    {
      "cell_type": "code",
      "execution_count": 50,
      "metadata": {
        "colab": {
          "base_uri": "https://localhost:8080/"
        },
        "id": "Vllg2mNBOjWB",
        "outputId": "a6c0076f-7b6b-4784-c604-e29c00d61d6b"
      },
      "outputs": [
        {
          "name": "stderr",
          "output_type": "stream",
          "text": [
            "c:\\Users\\priya\\anaconda3\\envs\\my_env_2\\lib\\site-packages\\transformers\\optimization.py:395: FutureWarning: This implementation of AdamW is deprecated and will be removed in a future version. Use the PyTorch implementation torch.optim.AdamW instead, or set `no_deprecation_warning=True` to disable this warning\n",
            "  FutureWarning,\n"
          ]
        }
      ],
      "source": [
        "warmup_steps = 1e2\n",
        "sample_every = 100\n",
        "\n",
        "# Using AdamW optimizer with default parameters\n",
        "optimizer = AdamW(model.parameters(), lr=lr, eps=1e-8)\n",
        "\n",
        "# Toatl training steps is the number of data points times the number of epochs\n",
        "total_training_steps = len(train_dataloader)*num_epochs\n",
        "\n",
        "# Setting a variable learning rate using scheduler\n",
        "scheduler = get_linear_schedule_with_warmup(optimizer,\n",
        "                                            num_warmup_steps=warmup_steps,\n",
        "                                            num_training_steps=total_training_steps)"
      ]
    },
    {
      "cell_type": "code",
      "execution_count": 51,
      "metadata": {
        "id": "a9hZyFqmBxar"
      },
      "outputs": [],
      "source": [
        "# wandb.init(\n",
        "#     # set the wandb project where this run will be logged\n",
        "#     project=\"quotes-generator-project-1\",\n",
        "    \n",
        "#     # track hyperparameters and run metadata\n",
        "#     config={\n",
        "#     \"learning_rate\": lr,\n",
        "#     \"architecture\": \"GPT-2\",\n",
        "#     \"dataset\": \"Quotes Dataset\",\n",
        "#     \"epochs\": num_epochs,\n",
        "#     }\n",
        "# )\n",
        "# #Need to add batch size, optimization algorithm, dropout rate, gpt-2 models"
      ]
    },
    {
      "cell_type": "code",
      "execution_count": null,
      "metadata": {
        "colab": {
          "base_uri": "https://localhost:8080/"
        },
        "id": "a0I7Vn7iPWD3",
        "outputId": "dc1da004-3a21-48cf-8681-d2b3640738b5"
      },
      "outputs": [],
      "source": [
        "training_stats = []\n",
        "all_training_loss=[]\n",
        "all_valid_loss=[]\n",
        "for epoch_i in range(num_epochs):\n",
        "  print(f'Beginning epoch {epoch_i+1} of {num_epochs}')\n",
        "  total_train_loss = 0\n",
        "  model.train()\n",
        "\n",
        "  # Labels are shifted by 1 timestep\n",
        "  for step, batch in enumerate(train_dataloader):\n",
        "    b_input_ids = batch[0].to(device)\n",
        "    b_labels = batch[0].to(device)\n",
        "    b_masks = batch[1].to(device)\n",
        "\n",
        "    model.zero_grad()\n",
        "\n",
        "    outputs = model(b_input_ids,\n",
        "                    labels=b_labels,\n",
        "                    attention_mask=b_masks)\n",
        "    \n",
        "    loss = outputs[0]\n",
        "\n",
        "    batch_loss = loss.item()\n",
        "    total_train_loss += batch_loss\n",
        "    loss.backward()\n",
        "    optimizer.step()\n",
        "    scheduler.step()\n",
        "\n",
        "  all_training_loss.append(total_train_loss)\n",
        "  avg_train_loss = total_train_loss / len(train_dataloader)\n",
        "  print(f'Average Training Loss: {avg_train_loss}.')\n",
        "  model.eval()\n",
        "\n",
        "  total_eval_loss = 0\n",
        "  nb_eval_steps = 0\n",
        "\n",
        "  for batch in val_dataloader:\n",
        "    b_input_ids = batch[0].to(device)\n",
        "    b_labels = batch[0].to(device)\n",
        "    b_masks = batch[1].to(device)\n",
        "        \n",
        "    with torch.no_grad():        \n",
        "\n",
        "        outputs  = model(b_input_ids,  \n",
        "                         attention_mask = b_masks,\n",
        "                         labels=b_labels)\n",
        "          \n",
        "        loss = outputs[0]  \n",
        "            \n",
        "    batch_loss = loss.item()\n",
        "    total_eval_loss += batch_loss   \n",
        "\n",
        "  all_valid_loss.append(total_eval_loss)\n",
        "  avg_val_loss = total_eval_loss / len(val_dataloader)  \n",
        "  print(f'Validation loss: {avg_val_loss}.')\n",
        "  print()\n",
        "  torch.save(model.state_dict(), f'gpt2_finetuned_epoch_{epoch_i}.pt')\n",
        "  plt.plot(all_training_loss, label='Training Loss')\n",
        "  plt.plot(all_valid_loss, label='Validation Loss')\n",
        "  plt.ylim(bottom=0)\n",
        "  plt.legend()\n",
        "  plt.xlabel('Epoch')\n",
        "  plt.ylabel('Loss')\n",
        "  display.display(plt.gcf())\n",
        "  display.clear_output(wait=True)\n",
        "  # Record all statistics from this epoch.\n",
        "  training_stats.append(\n",
        "      {\n",
        "          'epoch': epoch_i + 1,\n",
        "          'Training Loss': avg_train_loss,\n",
        "          'Valid. Loss': avg_val_loss,\n",
        "      }\n",
        "  )"
      ]
    },
    {
      "cell_type": "code",
      "execution_count": null,
      "metadata": {},
      "outputs": [
        {
          "name": "stderr",
          "output_type": "stream",
          "text": [
            "Special tokens have been added in the vocabulary, make sure the associated word embeddings are fine-tuned or trained.\n",
            "The attention mask and the pad token id were not set. As a consequence, you may observe unexpected behavior. Please pass your input's `attention_mask` to obtain reliable results.\n",
            "Setting `pad_token_id` to `eos_token_id`:50256 for open-end generation.\n"
          ]
        },
        {
          "name": "stdout",
          "output_type": "stream",
          "text": [
            "0: Empowering yourself with these habits can provide you with unlimited opportunities to pursue your passion.”\n",
            "\n",
            "\n",
            "1: Empower is as vital to happiness as health.”\n",
            "\n",
            "\n",
            "2: Empower is a quality. a commitment to greatness. a constant effort to sharpen your skills.”\n",
            "\n",
            "\n"
          ]
        }
      ],
      "source": [
        "import torch\n",
        "from transformers import GPT2Tokenizer, GPT2LMHeadModel,GPT2Config\n",
        "\n",
        "# Load the fine-tuned GPT-2 model and tokenizer\n",
        "model_path = \"gpt2_finetuned_epoch_9.pt\"\n",
        "my_tokenizer = GPT2Tokenizer.from_pretrained('gpt2', \n",
        "                                          bos_token='<|startoftext|>', \n",
        "                                          eos_token='<|endoftext|>', \n",
        "                                          pad_token='<|pad|>')\n",
        "model_state_dict = torch.load(model_path, map_location=torch.device(device))\n",
        "\n",
        "\n",
        "# Create a new model and load the state dict\n",
        "config = GPT2Config.from_pretrained(\"gpt2\")\n",
        "model = GPT2LMHeadModel.from_pretrained('gpt2',config=config)\n",
        "model.resize_token_embeddings(len(my_tokenizer))\n",
        "\n",
        "model.load_state_dict(model_state_dict)\n",
        "\n",
        "\n",
        "prompt = \"Empower\"\n",
        "\n",
        "generated = torch.tensor(my_tokenizer.encode(prompt)).unsqueeze(0)\n",
        "sample_outputs = model.generate(\n",
        "                                generated, \n",
        "                                do_sample=True,   \n",
        "                                top_k=50, \n",
        "                                max_length = 100,\n",
        "                                top_p=0.95, \n",
        "                                num_return_sequences=3\n",
        "                                )\n",
        "\n",
        "for i, sample_output in enumerate(sample_outputs):\n",
        "  print(\"{}: {}\\n\\n\".format(i, my_tokenizer.decode(sample_output, skip_special_tokens=True)))"
      ]
    }
  ],
  "metadata": {
    "colab": {
      "gpuType": "T4",
      "provenance": []
    },
    "gpuClass": "standard",
    "kernelspec": {
      "display_name": "Python 3.9.13 ('base')",
      "language": "python",
      "name": "python3"
    },
    "language_info": {
      "codemirror_mode": {
        "name": "ipython",
        "version": 3
      },
      "file_extension": ".py",
      "mimetype": "text/x-python",
      "name": "python",
      "nbconvert_exporter": "python",
      "pygments_lexer": "ipython3",
      "version": "3.7.16"
    },
    "vscode": {
      "interpreter": {
        "hash": "302c0e539280ef2dfdb92b93b555721a22645911ab5c0c8cc8f046bb25d8f505"
      }
    }
  },
  "nbformat": 4,
  "nbformat_minor": 0
}
