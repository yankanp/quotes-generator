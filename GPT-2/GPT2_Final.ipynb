{
  "cells": [
    {
      "cell_type": "code",
      "execution_count": 1,
      "metadata": {
        "colab": {
          "base_uri": "https://localhost:8080/"
        },
        "id": "vbGj4XEbBxae",
        "outputId": "fdfb850d-21d4-4650-8971-ec1c6ccf20e2"
      },
      "outputs": [
        {
          "name": "stdout",
          "output_type": "stream",
          "text": [
            "11.7\n",
            "True\n"
          ]
        }
      ],
      "source": [
        "import torch\n",
        "print(torch.version.cuda)\n",
        "print(torch.cuda.is_available())\n"
      ]
    },
    {
      "cell_type": "code",
      "execution_count": null,
      "metadata": {},
      "outputs": [],
      "source": [
        "# Create a MPS device\n",
        "# device = torch.device(\"mps\")\n",
        "# device"
      ]
    },
    {
      "cell_type": "code",
      "execution_count": 2,
      "metadata": {
        "id": "3Edz3U9wBxag"
      },
      "outputs": [],
      "source": [
        "use_cuda=torch.cuda.is_available()\n",
        "device=torch.device('cuda:0' if use_cuda else 'cpu')"
      ]
    },
    {
      "cell_type": "code",
      "execution_count": null,
      "metadata": {
        "id": "nyTvcMxGo5Uw"
      },
      "outputs": [],
      "source": [
        "! pip install SentencePiece\n"
      ]
    },
    {
      "cell_type": "code",
      "execution_count": null,
      "metadata": {},
      "outputs": [],
      "source": [
        "! pip install langid"
      ]
    },
    {
      "cell_type": "code",
      "execution_count": null,
      "metadata": {},
      "outputs": [],
      "source": [
        "! pip install unidecode"
      ]
    },
    {
      "cell_type": "code",
      "execution_count": null,
      "metadata": {
        "id": "powSGF3Yo7ew"
      },
      "outputs": [],
      "source": [
        "! pip install transformers\n"
      ]
    },
    {
      "cell_type": "code",
      "execution_count": null,
      "metadata": {
        "id": "8FMTXghMBxai"
      },
      "outputs": [],
      "source": [
        "! pip install pandas"
      ]
    },
    {
      "cell_type": "code",
      "execution_count": null,
      "metadata": {
        "id": "TD2jNfl0Bxaj"
      },
      "outputs": [],
      "source": [
        "! pip install -U matplotlib"
      ]
    },
    {
      "cell_type": "code",
      "execution_count": null,
      "metadata": {
        "id": "Ui1RY5C2Bxaj"
      },
      "outputs": [],
      "source": [
        "! pip install wandb"
      ]
    },
    {
      "cell_type": "code",
      "execution_count": 3,
      "metadata": {
        "id": "F2WJoaQTBxak"
      },
      "outputs": [
        {
          "name": "stderr",
          "output_type": "stream",
          "text": [
            "wandb: Appending key for api.wandb.ai to your netrc file: C:\\Users\\priya/.netrc\n"
          ]
        }
      ],
      "source": [
        "! wandb login 0cf8d63ac20cff538d748e7412a8d60561ff1268"
      ]
    },
    {
      "cell_type": "code",
      "execution_count": 4,
      "metadata": {
        "id": "mfE3c4Ugoyza"
      },
      "outputs": [],
      "source": [
        "import torch\n",
        "import torch.nn as nn\n",
        "from torch.utils.data import Dataset, DataLoader,random_split,RandomSampler, SequentialSampler\n",
        "from transformers import GPT2Tokenizer, GPT2LMHeadModel, AdamW, get_linear_schedule_with_warmup,GPT2Config\n",
        "import pandas as pd\n",
        "from torch.nn.utils.rnn import pad_sequence\n",
        "import matplotlib.pyplot as plt\n",
        "from IPython import display\n",
        "plt.rcParams[\"figure.figsize\"] = 8, 6\n",
        "import wandb\n",
        "import re\n",
        "from collections import Counter\n",
        "\n",
        "import unidecode\n",
        "import langid\n",
        "import random"
      ]
    },
    {
      "cell_type": "code",
      "execution_count": 5,
      "metadata": {
        "colab": {
          "base_uri": "https://localhost:8080/"
        },
        "id": "6W2npISTNpCR",
        "outputId": "0b822841-9b35-48e7-8f33-1420c1d77b1a"
      },
      "outputs": [
        {
          "name": "stdout",
          "output_type": "stream",
          "text": [
            "(30000, 5)\n"
          ]
        }
      ],
      "source": [
        "full_dataset =pd.read_csv('../dataset/all_quotes.csv',low_memory=False)\n",
        "# full_dataset=full_dataset.head(1000) #For testing purpose only\n",
        "print(full_dataset.shape)\n"
      ]
    },
    {
      "cell_type": "code",
      "execution_count": 6,
      "metadata": {
        "colab": {
          "base_uri": "https://localhost:8080/",
          "height": 354
        },
        "id": "-XErZ9_KBxan",
        "outputId": "f5a56526-b5c5-439d-e9f7-0dd69a63d67c"
      },
      "outputs": [
        {
          "data": {
            "text/html": [
              "<div>\n",
              "<style scoped>\n",
              "    .dataframe tbody tr th:only-of-type {\n",
              "        vertical-align: middle;\n",
              "    }\n",
              "\n",
              "    .dataframe tbody tr th {\n",
              "        vertical-align: top;\n",
              "    }\n",
              "\n",
              "    .dataframe thead th {\n",
              "        text-align: right;\n",
              "    }\n",
              "</style>\n",
              "<table border=\"1\" class=\"dataframe\">\n",
              "  <thead>\n",
              "    <tr style=\"text-align: right;\">\n",
              "      <th></th>\n",
              "      <th>Unnamed: 0</th>\n",
              "      <th>quotes</th>\n",
              "      <th>author</th>\n",
              "      <th>tag</th>\n",
              "      <th>other_tags</th>\n",
              "    </tr>\n",
              "  </thead>\n",
              "  <tbody>\n",
              "    <tr>\n",
              "      <th>0</th>\n",
              "      <td>0</td>\n",
              "      <td>“Control of consciousness determines the quali...</td>\n",
              "      <td>― Mihaly Csikszentmihalyi, Flow: The Psycholog...</td>\n",
              "      <td>happiness</td>\n",
              "      <td>[' consciousness, happiness, quality-of-life']</td>\n",
              "    </tr>\n",
              "    <tr>\n",
              "      <th>1</th>\n",
              "      <td>1</td>\n",
              "      <td>“Copulation is no more foul to me than death is.”</td>\n",
              "      <td>― Walt Whitman, Leaves of Grass: The First (18...</td>\n",
              "      <td>death</td>\n",
              "      <td>[' death, sex']</td>\n",
              "    </tr>\n",
              "    <tr>\n",
              "      <th>2</th>\n",
              "      <td>2</td>\n",
              "      <td>“Hope is a dream of which we long to have. Don...</td>\n",
              "      <td>― Peace Gypsy, Souls Deep</td>\n",
              "      <td>happiness</td>\n",
              "      <td>[' dreamers, dreams, happiness, love, peace']</td>\n",
              "    </tr>\n",
              "    <tr>\n",
              "      <th>3</th>\n",
              "      <td>3</td>\n",
              "      <td>“True devotion and humility is when you carele...</td>\n",
              "      <td>― Michael Bassey Johnson</td>\n",
              "      <td>truth</td>\n",
              "      <td>[' acceptance, achilles-heel, admiration, affe...</td>\n",
              "    </tr>\n",
              "    <tr>\n",
              "      <th>4</th>\n",
              "      <td>4</td>\n",
              "      <td>“Truths are written, never said... Lines are d...</td>\n",
              "      <td>― Colleen Hoover, Maybe Someday</td>\n",
              "      <td>poetry</td>\n",
              "      <td>[' love, maybe-someday, poetry, ridge-lawson']</td>\n",
              "    </tr>\n",
              "  </tbody>\n",
              "</table>\n",
              "</div>"
            ],
            "text/plain": [
              "   Unnamed: 0                                             quotes  \\\n",
              "0           0  “Control of consciousness determines the quali...   \n",
              "1           1  “Copulation is no more foul to me than death is.”   \n",
              "2           2  “Hope is a dream of which we long to have. Don...   \n",
              "3           3  “True devotion and humility is when you carele...   \n",
              "4           4  “Truths are written, never said... Lines are d...   \n",
              "\n",
              "                                              author        tag  \\\n",
              "0  ― Mihaly Csikszentmihalyi, Flow: The Psycholog...  happiness   \n",
              "1  ― Walt Whitman, Leaves of Grass: The First (18...      death   \n",
              "2                          ― Peace Gypsy, Souls Deep  happiness   \n",
              "3                           ― Michael Bassey Johnson      truth   \n",
              "4                    ― Colleen Hoover, Maybe Someday     poetry   \n",
              "\n",
              "                                          other_tags  \n",
              "0     [' consciousness, happiness, quality-of-life']  \n",
              "1                                    [' death, sex']  \n",
              "2      [' dreamers, dreams, happiness, love, peace']  \n",
              "3  [' acceptance, achilles-heel, admiration, affe...  \n",
              "4     [' love, maybe-someday, poetry, ridge-lawson']  "
            ]
          },
          "execution_count": 6,
          "metadata": {},
          "output_type": "execute_result"
        }
      ],
      "source": [
        "full_dataset.head()"
      ]
    },
    {
      "cell_type": "code",
      "execution_count": 7,
      "metadata": {
        "id": "grzaX34tImOx"
      },
      "outputs": [
        {
          "data": {
            "text/html": [
              "<div>\n",
              "<style scoped>\n",
              "    .dataframe tbody tr th:only-of-type {\n",
              "        vertical-align: middle;\n",
              "    }\n",
              "\n",
              "    .dataframe tbody tr th {\n",
              "        vertical-align: top;\n",
              "    }\n",
              "\n",
              "    .dataframe thead th {\n",
              "        text-align: right;\n",
              "    }\n",
              "</style>\n",
              "<table border=\"1\" class=\"dataframe\">\n",
              "  <thead>\n",
              "    <tr style=\"text-align: right;\">\n",
              "      <th></th>\n",
              "      <th>quotes</th>\n",
              "      <th>tag</th>\n",
              "    </tr>\n",
              "  </thead>\n",
              "  <tbody>\n",
              "    <tr>\n",
              "      <th>0</th>\n",
              "      <td>“Control of consciousness determines the quali...</td>\n",
              "      <td>happiness</td>\n",
              "    </tr>\n",
              "    <tr>\n",
              "      <th>1</th>\n",
              "      <td>“Copulation is no more foul to me than death is.”</td>\n",
              "      <td>death</td>\n",
              "    </tr>\n",
              "    <tr>\n",
              "      <th>2</th>\n",
              "      <td>“Hope is a dream of which we long to have. Don...</td>\n",
              "      <td>happiness</td>\n",
              "    </tr>\n",
              "    <tr>\n",
              "      <th>3</th>\n",
              "      <td>“True devotion and humility is when you carele...</td>\n",
              "      <td>truth</td>\n",
              "    </tr>\n",
              "    <tr>\n",
              "      <th>4</th>\n",
              "      <td>“Truths are written, never said... Lines are d...</td>\n",
              "      <td>poetry</td>\n",
              "    </tr>\n",
              "    <tr>\n",
              "      <th>...</th>\n",
              "      <td>...</td>\n",
              "      <td>...</td>\n",
              "    </tr>\n",
              "    <tr>\n",
              "      <th>28694</th>\n",
              "      <td>“One to be a murderer. One to be a Martyr. One...</td>\n",
              "      <td>death</td>\n",
              "    </tr>\n",
              "    <tr>\n",
              "      <th>28695</th>\n",
              "      <td>“To be, or not to be: that is the question:</td>\n",
              "      <td>death</td>\n",
              "    </tr>\n",
              "    <tr>\n",
              "      <th>28696</th>\n",
              "      <td>“I always think of each night as a song. Or ea...</td>\n",
              "      <td>love</td>\n",
              "    </tr>\n",
              "    <tr>\n",
              "      <th>28697</th>\n",
              "      <td>“It's not what I'd want for at my funeral. Whe...</td>\n",
              "      <td>death</td>\n",
              "    </tr>\n",
              "    <tr>\n",
              "      <th>28698</th>\n",
              "      <td>“I believe that to be an efficient writer, one...</td>\n",
              "      <td>inspiration</td>\n",
              "    </tr>\n",
              "  </tbody>\n",
              "</table>\n",
              "<p>28699 rows × 2 columns</p>\n",
              "</div>"
            ],
            "text/plain": [
              "                                                  quotes          tag\n",
              "0      “Control of consciousness determines the quali...    happiness\n",
              "1      “Copulation is no more foul to me than death is.”        death\n",
              "2      “Hope is a dream of which we long to have. Don...    happiness\n",
              "3      “True devotion and humility is when you carele...        truth\n",
              "4      “Truths are written, never said... Lines are d...       poetry\n",
              "...                                                  ...          ...\n",
              "28694  “One to be a murderer. One to be a Martyr. One...        death\n",
              "28695        “To be, or not to be: that is the question:        death\n",
              "28696  “I always think of each night as a song. Or ea...         love\n",
              "28697  “It's not what I'd want for at my funeral. Whe...        death\n",
              "28698  “I believe that to be an efficient writer, one...  inspiration\n",
              "\n",
              "[28699 rows x 2 columns]"
            ]
          },
          "execution_count": 7,
          "metadata": {},
          "output_type": "execute_result"
        }
      ],
      "source": [
        "#TODO\n",
        "new_dataset = full_dataset[['quotes', 'tag']]\n",
        "new_dataset = new_dataset[new_dataset['quotes'].apply(lambda x: unidecode.unidecode(x).isascii())]\n",
        "\n",
        "# Set the seed for reproducibility\n",
        "random.seed(123)\n",
        "\n",
        "# Define a function to detect the language of a string\n",
        "def detect_language(text):\n",
        "    return langid.classify(text)[0]\n",
        "\n",
        "# Add a new column to the DataFrame with the language of each quote\n",
        "new_dataset['language'] = new_dataset['quotes'].apply(detect_language)\n",
        "\n",
        "# Filter the DataFrame to keep only the rows where the language is English\n",
        "new_dataset = new_dataset[new_dataset['language'] == 'en']\n",
        "\n",
        "# Drop the language column from the DataFrame\n",
        "new_dataset = new_dataset.drop('language', axis=1)\n",
        "new_dataset = new_dataset.reset_index(drop=True)\n",
        "new_dataset"
      ]
    },
    {
      "cell_type": "code",
      "execution_count": 8,
      "metadata": {},
      "outputs": [
        {
          "data": {
            "text/plain": [
              "(28699, 2)"
            ]
          },
          "execution_count": 8,
          "metadata": {},
          "output_type": "execute_result"
        }
      ],
      "source": [
        "new_dataset.shape"
      ]
    },
    {
      "cell_type": "code",
      "execution_count": 9,
      "metadata": {
        "colab": {
          "base_uri": "https://localhost:8080/",
          "height": 784
        },
        "id": "I0Ia15dHBxao",
        "outputId": "9b5428fb-a285-4af8-8403-821872455579"
      },
      "outputs": [
        {
          "name": "stdout",
          "output_type": "stream",
          "text": [
            "           tag  count\n",
            "2        truth   2926\n",
            "6         love   2919\n",
            "8      success   2917\n",
            "0    happiness   2916\n",
            "1        death   2905\n",
            "9         time   2879\n",
            "7      science   2867\n",
            "5      romance   2842\n",
            "4  inspiration   2774\n",
            "3       poetry   2754\n"
          ]
        },
        {
          "data": {
            "image/png": "[encoded data removed]",
            "text/plain": [
              "<Figure size 800x600 with 1 Axes>"
            ]
          },
          "metadata": {},
          "output_type": "display_data"
        }
      ],
      "source": [
        "# Lowercase the text\n",
        "# full_dataset['tags'] = full_dataset['tags'].apply(lambda x: x.lower())\n",
        "tag_string = ','.join(new_dataset['tag'])\n",
        "tag_list = [tag.strip() for tag in tag_string.split(',')] # all tags in this list\n",
        "tag_counts = Counter(tag_list)\n",
        "tag_df = pd.DataFrame({'tag': tag_counts.keys(), 'count': tag_counts.values()})\n",
        "tag_df = tag_df.sort_values(by='count', ascending=False)\n",
        "print(tag_df)\n",
        "plt.bar(tag_df['tag'][:50], tag_df['count'][:50])\n",
        "plt.xticks(rotation=90)\n",
        "plt.show()"
      ]
    },
    {
      "cell_type": "code",
      "execution_count": 10,
      "metadata": {},
      "outputs": [],
      "source": [
        "new_dataset['quotes'] = new_dataset['quotes'].str.replace('“', '')"
      ]
    },
    {
      "cell_type": "code",
      "execution_count": 11,
      "metadata": {
        "id": "od6NjoSUBxap"
      },
      "outputs": [],
      "source": [
        "#Data preprocessing\n",
        "# Remove new line\n",
        "new_dataset['quotes'] = new_dataset['quotes'].apply(lambda x: re.sub(r'\\n+', ' ', x))\n",
        "\n",
        "# Lowercase the text\n",
        "new_dataset['quotes'] = new_dataset['quotes'].apply(lambda x: x.lower())"
      ]
    },
    {
      "cell_type": "code",
      "execution_count": null,
      "metadata": {
        "id": "EG-SnFcWTpW-"
      },
      "outputs": [],
      "source": [
        "#Show the word distribution as bar chart so that we can get an idea of how the sentence is distributed."
      ]
    },
    {
      "cell_type": "code",
      "execution_count": 12,
      "metadata": {
        "colab": {
          "base_uri": "https://localhost:8080/"
        },
        "id": "SpDwgq0xBxap",
        "outputId": "72e5a81a-2c39-4fb6-ff11-172f6371d1ec"
      },
      "outputs": [
        {
          "name": "stdout",
          "output_type": "stream",
          "text": [
            "(28699, 2)\n"
          ]
        }
      ],
      "source": [
        "print(new_dataset.shape)"
      ]
    },
    {
      "cell_type": "code",
      "execution_count": 13,
      "metadata": {
        "id": "Ca6b1fFZMB2A"
      },
      "outputs": [],
      "source": [
        "#TODO get the maximum sentence length\n",
        "max_length_value=768"
      ]
    },
    {
      "cell_type": "code",
      "execution_count": 14,
      "metadata": {
        "id": "H7tEwgnlC9_P"
      },
      "outputs": [],
      "source": [
        "class QuotesDataset(Dataset):\n",
        "    def __init__(self, quotes, tokenizer,max_length_value):\n",
        "        self.input_ids = []\n",
        "        self.attn_masks = []\n",
        "        self.tokenizer = tokenizer\n",
        "\n",
        "        for quote in quotes:\n",
        "          encodings_dict = tokenizer(\"<|startoftext|>\"+quote+\"<|endoftext|>\",\n",
        "                                    truncation=True,\n",
        "                                    max_length=max_length_value,\n",
        "                                    padding=\"max_length\") #We are using max length padding\n",
        "          \n",
        "          self.input_ids.append(torch.tensor(encodings_dict[\"input_ids\"]))\n",
        "          self.attn_masks.append(torch.tensor(encodings_dict[\"attention_mask\"]))\n",
        "\n",
        "    def __len__(self):\n",
        "        return len(self.input_ids)\n",
        "\n",
        "    def __getitem__(self, idx):\n",
        "        return self.input_ids[idx], self.attn_masks[idx]"
      ]
    },
    {
      "cell_type": "code",
      "execution_count": 15,
      "metadata": {
        "id": "3-HcjRmPLFCm"
      },
      "outputs": [],
      "source": [
        "#Hyper parameters\n",
        "batch_size = 5\n",
        "num_epochs=10\n",
        "lr=2e-5\n",
        "warmup_steps=100\n",
        "optimizer='Adagrad'"
      ]
    },
    {
      "cell_type": "code",
      "execution_count": 16,
      "metadata": {
        "id": "Bi1D2fCtpGIw"
      },
      "outputs": [
        {
          "name": "stderr",
          "output_type": "stream",
          "text": [
            "Special tokens have been added in the vocabulary, make sure the associated word embeddings are fine-tuned or trained.\n"
          ]
        }
      ],
      "source": [
        "quotes = new_dataset['quotes']\n",
        "tokenizer = GPT2Tokenizer.from_pretrained('gpt2', \n",
        "                                          bos_token='<|startoftext|>', \n",
        "                                          eos_token='<|endoftext|>', \n",
        "                                          pad_token='<|pad|>')\n",
        "\n",
        "final_dataset = QuotesDataset(quotes, tokenizer,max_length_value)"
      ]
    },
    {
      "cell_type": "code",
      "execution_count": 17,
      "metadata": {
        "colab": {
          "base_uri": "https://localhost:8080/"
        },
        "id": "-_jCUFFAONN8",
        "outputId": "364eee60-db24-41a4-83e3-8bb45d773cc8"
      },
      "outputs": [
        {
          "name": "stdout",
          "output_type": "stream",
          "text": [
            "22959 5740\n"
          ]
        }
      ],
      "source": [
        "train_size = int(0.8*len(final_dataset))\n",
        "val_size = len(final_dataset) - train_size\n",
        "print(train_size,val_size)\n",
        "train_dataset, val_dataset = random_split(final_dataset, [train_size, val_size])\n",
        "train_dataloader = DataLoader(train_dataset,\n",
        "                              sampler=RandomSampler(train_dataset),\n",
        "                              batch_size=batch_size)\n",
        "\n",
        "val_dataloader = DataLoader(val_dataset,\n",
        "                            sampler=SequentialSampler(val_dataset),\n",
        "                            batch_size=batch_size)"
      ]
    },
    {
      "cell_type": "code",
      "execution_count": 18,
      "metadata": {
        "id": "aKFObxcPOwCU"
      },
      "outputs": [],
      "source": [
        "# Load model configuration\n",
        "config = GPT2Config.from_pretrained(\"gpt2\")\n",
        "\n",
        "# Create model instance and set embedding length\n",
        "model = GPT2LMHeadModel.from_pretrained(\"gpt2\", config=config)\n",
        "model.resize_token_embeddings(len(tokenizer))\n",
        "\n",
        "# Running the model on GPU\n",
        "model = model.to(device)"
      ]
    },
    {
      "cell_type": "code",
      "execution_count": 19,
      "metadata": {
        "colab": {
          "base_uri": "https://localhost:8080/"
        },
        "id": "Vllg2mNBOjWB",
        "outputId": "a6c0076f-7b6b-4784-c604-e29c00d61d6b"
      },
      "outputs": [
        {
          "name": "stderr",
          "output_type": "stream",
          "text": [
            "c:\\Users\\priya\\anaconda3\\envs\\my_env_2\\lib\\site-packages\\transformers\\optimization.py:395: FutureWarning: This implementation of AdamW is deprecated and will be removed in a future version. Use the PyTorch implementation torch.optim.AdamW instead, or set `no_deprecation_warning=True` to disable this warning\n",
            "  FutureWarning,\n"
          ]
        }
      ],
      "source": [
        "# Using AdamW optimizer with default parameters\n",
        "#TODO\n",
        "optimizer = AdamW(model.parameters(), lr=lr, eps=1e-8)\n",
        "\n",
        "# Toatl training steps is the number of data points times the number of epochs\n",
        "total_training_steps = len(train_dataloader)*num_epochs\n",
        "\n",
        "# Setting a variable learning rate using scheduler\n",
        "scheduler = get_linear_schedule_with_warmup(optimizer,\n",
        "                                            num_warmup_steps=warmup_steps,\n",
        "                                            num_training_steps=total_training_steps)"
      ]
    },
    {
      "cell_type": "code",
      "execution_count": null,
      "metadata": {
        "id": "a9hZyFqmBxar"
      },
      "outputs": [],
      "source": [
        "wandb.init(\n",
        "    # set the wandb project where this run will be logged\n",
        "    project=\"quotes-generator-project-1\",\n",
        "    \n",
        "    # track hyperparameters and run metadata\n",
        "    config={\n",
        "    \"learning_rate\": lr,\n",
        "    \"architecture\": \"GPT-2\",\n",
        "    \"dataset\": \"Quotes Dataset\",\n",
        "    \"epochs\": num_epochs,\n",
        "    }\n",
        ")\n",
        "#Need to add batch size, optimization algorithm, dropout rate, gpt-2 models"
      ]
    },
    {
      "cell_type": "code",
      "execution_count": 20,
      "metadata": {
        "colab": {
          "base_uri": "https://localhost:8080/"
        },
        "id": "a0I7Vn7iPWD3",
        "outputId": "dc1da004-3a21-48cf-8681-d2b3640738b5"
      },
      "outputs": [
        {
          "data": {
            "image/png": "[encoded data removed]",
            "text/plain": [
              "<Figure size 800x600 with 1 Axes>"
            ]
          },
          "metadata": {},
          "output_type": "display_data"
        }
      ],
      "source": [
        "training_stats = []\n",
        "all_training_loss=[]\n",
        "all_valid_loss=[]\n",
        "for epoch_i in range(num_epochs):\n",
        "  print(f'Beginning epoch {epoch_i+1} of {num_epochs}')\n",
        "  total_train_loss = 0\n",
        "  model.train()\n",
        "\n",
        "  # Labels are shifted by 1 timestep\n",
        "  for step, batch in enumerate(train_dataloader):\n",
        "    #input_ids (torch.LongTensor of shape (batch_size, input_ids_length)) — input_ids_length = sequence_length if past_key_values is None else past_key_values[0][0].shape[-2] (sequence_length of input past key value states). Indices of input sequence tokens in the vocabulary.\n",
        "\n",
        "    #labels (torch.LongTensor of shape (batch_size, sequence_length), optional) — Labels for language modeling. Note that the labels are shifted inside the model, i.e. you can set labels = input_ids Indices are selected in [-100, 0, ..., config.vocab_size] All labels set to -100 are ignored (masked), the loss is only computed for labels in [0, ..., config.vocab_size]\n",
        "\n",
        "    #attention_mask (torch.FloatTensor of shape (batch_size, sequence_length), optional) — Mask to avoid performing attention on padding token indices. Mask values selected in [0, 1]:\n",
        "    #1 for tokens that are not masked,\n",
        "    #0 for tokens that are masked.\n",
        "    \n",
        "    b_input_ids = batch[0].to(device)\n",
        "    b_labels = batch[0].to(device)\n",
        "    b_masks = batch[1].to(device)\n",
        "\n",
        "    model.zero_grad()\n",
        "\n",
        "    outputs = model(b_input_ids,\n",
        "                    labels=b_labels,\n",
        "                    attention_mask=b_masks)\n",
        "    #loss: Cross Entropy loss is used by the model (torch.FloatTensor of shape (1,), optional, returned when labels is provided) — Language modeling loss (for next-token prediction).\n",
        "    loss = outputs[0]\n",
        "\n",
        "    batch_loss = loss.item()\n",
        "    total_train_loss += batch_loss\n",
        "    loss.backward()\n",
        "    optimizer.step()\n",
        "    scheduler.step()\n",
        "    # log metrics to wandb\n",
        "    wandb.log({\"Training Loss\": loss})\n",
        "\n",
        "  all_training_loss.append(total_train_loss)\n",
        "  avg_train_loss = total_train_loss / len(train_dataloader)\n",
        "  print(f'Average Training Loss: {avg_train_loss}.')\n",
        "  model.eval()\n",
        "\n",
        "  total_eval_loss = 0\n",
        "  nb_eval_steps = 0\n",
        "\n",
        "  for batch in val_dataloader:\n",
        "    b_input_ids = batch[0].to(device)\n",
        "    b_labels = batch[0].to(device)\n",
        "    b_masks = batch[1].to(device)\n",
        "        \n",
        "    with torch.no_grad():        \n",
        "\n",
        "        outputs  = model(b_input_ids,  \n",
        "                         attention_mask = b_masks,\n",
        "                         labels=b_labels)\n",
        "          \n",
        "        loss = outputs[0]  \n",
        "        wandb.log({\"Validation Loss\": loss})\n",
        "\n",
        "    batch_loss = loss.item()\n",
        "    total_eval_loss += batch_loss   \n",
        "\n",
        "  all_valid_loss.append(total_eval_loss)\n",
        "  avg_val_loss = total_eval_loss / len(val_dataloader)  \n",
        "  print(f'Validation loss: {avg_val_loss}.')\n",
        "  print()\n",
        "  torch.save(model.state_dict(), f'gpt2_finetuned_epoch_{epoch_i}.pt')\n",
        "  plt.plot(all_training_loss, label='Training Loss')\n",
        "  plt.plot(all_valid_loss, label='Validation Loss')\n",
        "  plt.ylim(bottom=0)\n",
        "  plt.legend()\n",
        "  plt.xlabel('Epoch')\n",
        "  plt.ylabel('Loss')\n",
        "  display.display(plt.gcf())\n",
        "  display.clear_output(wait=True)\n",
        "  # Record all statistics from this epoch.\n",
        "  training_stats.append(\n",
        "      {\n",
        "          'epoch': epoch_i + 1,\n",
        "          'Training Loss': avg_train_loss,\n",
        "          'Valid. Loss': avg_val_loss,\n",
        "      }\n",
        "  )\n",
        "wandb.finish()"
      ]
    },
    {
      "cell_type": "code",
      "execution_count": 23,
      "metadata": {},
      "outputs": [
        {
          "name": "stderr",
          "output_type": "stream",
          "text": [
            "Special tokens have been added in the vocabulary, make sure the associated word embeddings are fine-tuned or trained.\n",
            "The attention mask and the pad token id were not set. As a consequence, you may observe unexpected behavior. Please pass your input's `attention_mask` to obtain reliable results.\n",
            "Setting `pad_token_id` to `eos_token_id`:50256 for open-end generation.\n"
          ]
        },
        {
          "name": "stdout",
          "output_type": "stream",
          "text": [
            "0: Empowering yourself with these habits can provide you with unlimited opportunities to pursue your passion.”\n",
            "\n",
            "\n",
            "1: Empower is as vital to happiness as health.”\n",
            "\n",
            "\n",
            "2: Empower is a quality. a commitment to greatness. a constant effort to sharpen your skills.”\n",
            "\n",
            "\n"
          ]
        }
      ],
      "source": [
        "import torch\n",
        "from transformers import GPT2Tokenizer, GPT2LMHeadModel,GPT2Config\n",
        "\n",
        "# Load the fine-tuned GPT-2 model and tokenizer\n",
        "model_path = \"gpt2_finetuned_epoch_9.pt\"\n",
        "my_tokenizer = GPT2Tokenizer.from_pretrained('gpt2', \n",
        "                                          bos_token='<|startoftext|>', \n",
        "                                          eos_token='<|endoftext|>', \n",
        "                                          pad_token='<|pad|>')\n",
        "model_state_dict = torch.load(model_path, map_location=torch.device(device))\n",
        "\n",
        "\n",
        "# Create a new model and load the state dict\n",
        "config = GPT2Config.from_pretrained(\"gpt2\")\n",
        "model = GPT2LMHeadModel.from_pretrained('gpt2',config=config)\n",
        "model.resize_token_embeddings(len(my_tokenizer))\n",
        "\n",
        "model.load_state_dict(model_state_dict)\n",
        "\n",
        "\n",
        "prompt = \"Empower\"\n",
        "\n",
        "generated = torch.tensor(my_tokenizer.encode(prompt)).unsqueeze(0)\n",
        "sample_outputs = model.generate(\n",
        "                                generated, \n",
        "                                do_sample=True,   \n",
        "                                top_k=50, \n",
        "                                max_length = 100,\n",
        "                                top_p=0.95, \n",
        "                                num_return_sequences=3\n",
        "                                )\n",
        "\n",
        "for i, sample_output in enumerate(sample_outputs):\n",
        "  print(\"{}: {}\\n\\n\".format(i, my_tokenizer.decode(sample_output, skip_special_tokens=True)))"
      ]
    }
  ],
  "metadata": {
    "colab": {
      "gpuType": "T4",
      "provenance": []
    },
    "gpuClass": "standard",
    "kernelspec": {
      "display_name": "Python 3.9.13 ('base')",
      "language": "python",
      "name": "python3"
    },
    "language_info": {
      "codemirror_mode": {
        "name": "ipython",
        "version": 3
      },
      "file_extension": ".py",
      "mimetype": "text/x-python",
      "name": "python",
      "nbconvert_exporter": "python",
      "pygments_lexer": "ipython3",
      "version": "3.7.16"
    },
    "vscode": {
      "interpreter": {
        "hash": "302c0e539280ef2dfdb92b93b555721a22645911ab5c0c8cc8f046bb25d8f505"
      }
    }
  },
  "nbformat": 4,
  "nbformat_minor": 0
}
